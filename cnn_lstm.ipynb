{
 "cells": [
  {
   "cell_type": "markdown",
   "id": "a4aeb482",
   "metadata": {
    "papermill": {
     "duration": 0.004737,
     "end_time": "2025-05-05T16:00:02.431671",
     "exception": false,
     "start_time": "2025-05-05T16:00:02.426934",
     "status": "completed"
    },
    "tags": []
   },
   "source": [
    "## Set up\n",
    "Import all required libraries"
   ]
  },
  {
   "cell_type": "code",
   "execution_count": 1,
   "id": "5b42a828",
   "metadata": {
    "execution": {
     "iopub.execute_input": "2025-05-05T16:00:02.440214Z",
     "iopub.status.busy": "2025-05-05T16:00:02.439987Z",
     "iopub.status.idle": "2025-05-05T16:00:08.768437Z",
     "shell.execute_reply": "2025-05-05T16:00:08.767864Z"
    },
    "papermill": {
     "duration": 6.334105,
     "end_time": "2025-05-05T16:00:08.769678",
     "exception": false,
     "start_time": "2025-05-05T16:00:02.435573",
     "status": "completed"
    },
    "tags": []
   },
   "outputs": [],
   "source": [
    "# Libraries\n",
    "import pandas as pd\n",
    "import numpy as np\n",
    "import matplotlib.pyplot as plt\n",
    "import random\n",
    "import os\n",
    "import gc\n",
    "import cv2\n",
    "from sklearn.model_selection import train_test_split\n",
    "from sklearn.utils.class_weight import compute_class_weight\n",
    "from sklearn.metrics import (f1_score, roc_auc_score, precision_score, recall_score, \n",
    "                             accuracy_score, confusion_matrix, classification_report,\n",
    "                             roc_curve, precision_recall_curve, average_precision_score)\n",
    "import torch\n",
    "import torch.nn as nn\n",
    "from torch.utils.data import Dataset, DataLoader\n",
    "from tqdm import tqdm"
   ]
  },
  {
   "cell_type": "code",
   "execution_count": 2,
   "id": "008e11a5",
   "metadata": {
    "execution": {
     "iopub.execute_input": "2025-05-05T16:00:08.778708Z",
     "iopub.status.busy": "2025-05-05T16:00:08.778147Z",
     "iopub.status.idle": "2025-05-05T16:00:08.784989Z",
     "shell.execute_reply": "2025-05-05T16:00:08.784515Z"
    },
    "papermill": {
     "duration": 0.012344,
     "end_time": "2025-05-05T16:00:08.786042",
     "exception": false,
     "start_time": "2025-05-05T16:00:08.773698",
     "status": "completed"
    },
    "tags": []
   },
   "outputs": [],
   "source": [
    "# Set random seeds\n",
    "random.seed(42)\n",
    "torch.manual_seed(42)\n",
    "np.random.seed(42)"
   ]
  },
  {
   "cell_type": "markdown",
   "id": "7cbaa4c7",
   "metadata": {
    "papermill": {
     "duration": 0.003495,
     "end_time": "2025-05-05T16:00:08.793249",
     "exception": false,
     "start_time": "2025-05-05T16:00:08.789754",
     "status": "completed"
    },
    "tags": []
   },
   "source": [
    "## Data\n",
    "Load and preprocess data"
   ]
  },
  {
   "cell_type": "code",
   "execution_count": 3,
   "id": "d07f0ab1",
   "metadata": {
    "execution": {
     "iopub.execute_input": "2025-05-05T16:00:08.801328Z",
     "iopub.status.busy": "2025-05-05T16:00:08.801081Z",
     "iopub.status.idle": "2025-05-05T16:00:08.878508Z",
     "shell.execute_reply": "2025-05-05T16:00:08.877784Z"
    },
    "papermill": {
     "duration": 0.082762,
     "end_time": "2025-05-05T16:00:08.879677",
     "exception": false,
     "start_time": "2025-05-05T16:00:08.796915",
     "status": "completed"
    },
    "tags": []
   },
   "outputs": [],
   "source": [
    "# Set image and metadata paths\n",
    "img_dir = \"/kaggle/input/covid-audio-data/augmented_melspectograms/melspectograms/\"\n",
    "label_df = pd.read_csv(\"/kaggle/input/covid-audio-data/labels.csv\")\n",
    "\n",
    "train_df, test_df = train_test_split(label_df, \n",
    "                                     test_size=0.2, \n",
    "                                     stratify=label_df[\"label\"], \n",
    "                                     random_state=42)\n",
    "train_df, val_df = train_test_split(train_df, \n",
    "                                     test_size=0.1, \n",
    "                                     stratify=train_df[\"label\"], \n",
    "                                     random_state=42)\n",
    "\n",
    "# PyTorch Dataset for loading melspectrogram images and their corresponding labels\n",
    "class MelSpectrogramDataset(Dataset):\n",
    "    def __init__(self, df, img_dir):\n",
    "        self.df = df.reset_index(drop=True)\n",
    "        self.img_dir = img_dir\n",
    "\n",
    "    def __len__(self):\n",
    "        return len(self.df)\n",
    "\n",
    "    def __getitem__(self, idx):\n",
    "        label = self.df.iloc[idx][\"label\"]\n",
    "        filename = self.df.iloc[idx][\"filename\"]\n",
    "\n",
    "        # Read image\n",
    "        img_path = os.path.join(self.img_dir, filename)\n",
    "        img = cv2.imread(img_path)\n",
    "        img = img.astype(np.float32) / 255.0\n",
    "        img = img.transpose(2, 0, 1)  # Convert (H, W, C) to (C, H, W)\n",
    "\n",
    "        return torch.tensor(img, dtype=torch.float32), torch.tensor(label, dtype=torch.float32)"
   ]
  },
  {
   "cell_type": "code",
   "execution_count": 4,
   "id": "dc110e94",
   "metadata": {
    "execution": {
     "iopub.execute_input": "2025-05-05T16:00:08.888163Z",
     "iopub.status.busy": "2025-05-05T16:00:08.887636Z",
     "iopub.status.idle": "2025-05-05T16:00:08.998514Z",
     "shell.execute_reply": "2025-05-05T16:00:08.997736Z"
    },
    "papermill": {
     "duration": 0.116357,
     "end_time": "2025-05-05T16:00:08.999737",
     "exception": false,
     "start_time": "2025-05-05T16:00:08.883380",
     "status": "completed"
    },
    "tags": []
   },
   "outputs": [],
   "source": [
    "# Set up data loaders\n",
    "BATCH_SIZE = 64\n",
    "\n",
    "train_dataset = MelSpectrogramDataset(train_df, img_dir)\n",
    "val_dataset = MelSpectrogramDataset(val_df, img_dir)\n",
    "test_dataset = MelSpectrogramDataset(test_df, img_dir)\n",
    "\n",
    "train_loader = DataLoader(train_dataset, \n",
    "                          batch_size=BATCH_SIZE, \n",
    "                          shuffle=True, \n",
    "                          num_workers=2, \n",
    "                          pin_memory=True, \n",
    "                          drop_last=True)\n",
    "test_loader = DataLoader(test_dataset, \n",
    "                         batch_size=BATCH_SIZE, \n",
    "                         shuffle=False, \n",
    "                         num_workers=2, \n",
    "                         pin_memory=True)\n",
    "val_loader = DataLoader(val_dataset, \n",
    "                        batch_size=BATCH_SIZE, \n",
    "                        shuffle=False, \n",
    "                        num_workers=2, \n",
    "                        pin_memory=True)\n",
    "\n",
    "# Clear unused memory\n",
    "gc.collect()\n",
    "torch.cuda.empty_cache()"
   ]
  },
  {
   "cell_type": "markdown",
   "id": "61494044",
   "metadata": {
    "papermill": {
     "duration": 0.003561,
     "end_time": "2025-05-05T16:00:09.007193",
     "exception": false,
     "start_time": "2025-05-05T16:00:09.003632",
     "status": "completed"
    },
    "tags": []
   },
   "source": [
    "## Model\n",
    "Build and train model"
   ]
  },
  {
   "cell_type": "code",
   "execution_count": 5,
   "id": "2ab7b60b",
   "metadata": {
    "execution": {
     "iopub.execute_input": "2025-05-05T16:00:09.015574Z",
     "iopub.status.busy": "2025-05-05T16:00:09.015346Z",
     "iopub.status.idle": "2025-05-05T16:00:09.023538Z",
     "shell.execute_reply": "2025-05-05T16:00:09.022835Z"
    },
    "papermill": {
     "duration": 0.013732,
     "end_time": "2025-05-05T16:00:09.024683",
     "exception": false,
     "start_time": "2025-05-05T16:00:09.010951",
     "status": "completed"
    },
    "tags": []
   },
   "outputs": [],
   "source": [
    "class CNN_LSTM(nn.Module):\n",
    "    def __init__(self, cnn_input_channels,\n",
    "                 lstm_hidden_size=128,\n",
    "                 lstm_layers=2,\n",
    "                 num_classes=1):\n",
    "        super().__init__()\n",
    "\n",
    "        # CNN\n",
    "        self.layer1 = nn.Sequential(\n",
    "            nn.Conv2d(cnn_input_channels, 16, kernel_size=2, stride=1, padding=1),\n",
    "            nn.BatchNorm2d(16), nn.ReLU(),\n",
    "            nn.AvgPool2d(kernel_size=2, stride=2),\n",
    "            nn.Dropout(0.3))\n",
    "\n",
    "        self.layer2 = nn.Sequential(\n",
    "            nn.Conv2d(16, 32, kernel_size=2, stride=1, padding=1),\n",
    "            nn.BatchNorm2d(32), nn.ReLU(),\n",
    "            nn.AvgPool2d(kernel_size=2, stride=2),\n",
    "            nn.Dropout(0.3))\n",
    "\n",
    "        self.layer3 = nn.Sequential(\n",
    "            nn.Conv2d(32, 64, kernel_size=2, stride=1, padding=1),\n",
    "            nn.BatchNorm2d(64), nn.ReLU(),\n",
    "            nn.AvgPool2d(kernel_size=2, stride=2),\n",
    "            nn.Dropout(0.3))\n",
    "\n",
    "        self.cnn = nn.Sequential(self.layer1, self.layer2, self.layer3)\n",
    "\n",
    "        # LSTM\n",
    "        self._lstm_built = False\n",
    "        self.lstm_hidden_size = lstm_hidden_size\n",
    "        self.lstm_layers = lstm_layers\n",
    "\n",
    "        # Classifier\n",
    "        self.classifier = nn.Sequential(\n",
    "            nn.Tanh(),\n",
    "            nn.BatchNorm1d(lstm_hidden_size * 2),\n",
    "            nn.Dropout(0.2),\n",
    "            nn.Linear(lstm_hidden_size * 2 , 100),\n",
    "            nn.ReLU(),\n",
    "            nn.Dropout(0.5),\n",
    "            nn.Linear(100, num_classes)\n",
    "        )\n",
    "\n",
    "    # Lazily initializes the LSTM once the input feature dimension (H * C) is known from the CNN output\n",
    "    def _build_lstm(self, feat_dim):\n",
    "        self.lstm = nn.LSTM(\n",
    "            input_size=feat_dim,\n",
    "            hidden_size=self.lstm_hidden_size,\n",
    "            num_layers=self.lstm_layers,\n",
    "            batch_first=True,\n",
    "            bidirectional=True,\n",
    "        ).to(next(self.parameters()).device)\n",
    "        self._lstm_built = True\n",
    "\n",
    "    # Forward pass through CNN and LSTM with reshpaing\n",
    "    def forward(self, x): \n",
    "        feat = self.cnn(x)\n",
    "        N, C, H, W = feat.shape\n",
    "        feat = feat.permute(0, 3, 2, 1)\n",
    "        lstm_in = feat.reshape(N, W, H * C)\n",
    "\n",
    "        if not self._lstm_built:\n",
    "            self._build_lstm(H * C)\n",
    "\n",
    "        lstm_out, _ = self.lstm(lstm_in)\n",
    "        last_t = lstm_out[:, -1, :]\n",
    "        return self.classifier(last_t)"
   ]
  },
  {
   "cell_type": "code",
   "execution_count": 6,
   "id": "c88c9e62",
   "metadata": {
    "execution": {
     "iopub.execute_input": "2025-05-05T16:00:09.032861Z",
     "iopub.status.busy": "2025-05-05T16:00:09.032492Z",
     "iopub.status.idle": "2025-05-05T16:00:13.134020Z",
     "shell.execute_reply": "2025-05-05T16:00:13.133242Z"
    },
    "papermill": {
     "duration": 4.107303,
     "end_time": "2025-05-05T16:00:13.135648",
     "exception": false,
     "start_time": "2025-05-05T16:00:09.028345",
     "status": "completed"
    },
    "tags": []
   },
   "outputs": [
    {
     "name": "stdout",
     "output_type": "stream",
     "text": [
      "Running on cuda\n"
     ]
    }
   ],
   "source": [
    "# Run on GPU if available\n",
    "device = torch.device(\"cuda\" if torch.cuda.is_available() else \"cpu\")\n",
    "print(\"Running on\", device)\n",
    "\n",
    "# Initialize model\n",
    "cnn_lstm = CNN_LSTM(cnn_input_channels=3).to(device)\n",
    "\n",
    "# Enable multi-GPU training if more than one GPU is available\n",
    "if torch.cuda.device_count() > 1:\n",
    "    print(\"Using\", torch.cuda.device_count(), \"GPUs\")\n",
    "    cnn_lstm = nn.DataParallel(cnn_lstm)\n",
    "\n",
    "# Loss, optimizer, scheduler\n",
    "criterion_cnn_lstm = nn.BCEWithLogitsLoss()\n",
    "optimizer_cnn_lstm = torch.optim.Adam(cnn_lstm.parameters(),\n",
    "                             lr=1e-3, weight_decay=1e-4)\n",
    "scheduler = torch.optim.lr_scheduler.CosineAnnealingWarmRestarts(\n",
    "    optimizer_cnn_lstm,\n",
    "    T_0=10, # Number of epochs before first restart\n",
    "    T_mult=2, # After each restart, increase cycle length\n",
    "    eta_min=1e-5) # Minimum learning rate"
   ]
  },
  {
   "cell_type": "code",
   "execution_count": 7,
   "id": "be9109fc",
   "metadata": {
    "execution": {
     "iopub.execute_input": "2025-05-05T16:00:13.144693Z",
     "iopub.status.busy": "2025-05-05T16:00:13.144359Z",
     "iopub.status.idle": "2025-05-05T17:27:31.685568Z",
     "shell.execute_reply": "2025-05-05T17:27:31.684629Z"
    },
    "papermill": {
     "duration": 5238.55717,
     "end_time": "2025-05-05T17:27:31.696848",
     "exception": false,
     "start_time": "2025-05-05T16:00:13.139678",
     "status": "completed"
    },
    "tags": []
   },
   "outputs": [
    {
     "name": "stderr",
     "output_type": "stream",
     "text": [
      "  1%|          | 1/100 [02:53<4:46:41, 173.76s/it]"
     ]
    },
    {
     "name": "stdout",
     "output_type": "stream",
     "text": [
      "Best model saved at epoch 1 with AUC = 0.6051\n",
      "Epoch 001: | Loss: 0.69565 | Acc: 0.526 | Validation Accuracy: 0.587\n"
     ]
    },
    {
     "name": "stderr",
     "output_type": "stream",
     "text": [
      "  2%|▏         | 2/100 [04:26<3:26:05, 126.18s/it]"
     ]
    },
    {
     "name": "stdout",
     "output_type": "stream",
     "text": [
      "Best model saved at epoch 2 with AUC = 0.7011\n",
      "Epoch 002: | Loss: 0.66031 | Acc: 0.604 | Validation Accuracy: 0.659\n"
     ]
    },
    {
     "name": "stderr",
     "output_type": "stream",
     "text": [
      "  3%|▎         | 3/100 [06:04<3:03:08, 113.28s/it]"
     ]
    },
    {
     "name": "stdout",
     "output_type": "stream",
     "text": [
      "Best model saved at epoch 3 with AUC = 0.7076\n",
      "Epoch 003: | Loss: 0.59365 | Acc: 0.651 | Validation Accuracy: 0.666\n"
     ]
    },
    {
     "name": "stderr",
     "output_type": "stream",
     "text": [
      "  4%|▍         | 4/100 [07:44<2:52:49, 108.02s/it]"
     ]
    },
    {
     "name": "stdout",
     "output_type": "stream",
     "text": [
      "Best model saved at epoch 4 with AUC = 0.7597\n",
      "Epoch 004: | Loss: 0.57434 | Acc: 0.671 | Validation Accuracy: 0.717\n"
     ]
    },
    {
     "name": "stderr",
     "output_type": "stream",
     "text": [
      "  5%|▌         | 5/100 [09:24<2:46:28, 105.15s/it]"
     ]
    },
    {
     "name": "stdout",
     "output_type": "stream",
     "text": [
      "Best model saved at epoch 5 with AUC = 0.7764\n",
      "Epoch 005: | Loss: 0.53990 | Acc: 0.712 | Validation Accuracy: 0.738\n"
     ]
    },
    {
     "name": "stderr",
     "output_type": "stream",
     "text": [
      "  6%|▌         | 6/100 [11:03<2:41:24, 103.03s/it]"
     ]
    },
    {
     "name": "stdout",
     "output_type": "stream",
     "text": [
      "Best model saved at epoch 6 with AUC = 0.7829\n",
      "Epoch 006: | Loss: 0.51628 | Acc: 0.725 | Validation Accuracy: 0.743\n"
     ]
    },
    {
     "name": "stderr",
     "output_type": "stream",
     "text": [
      "  7%|▋         | 7/100 [12:40<2:36:41, 101.09s/it]"
     ]
    },
    {
     "name": "stdout",
     "output_type": "stream",
     "text": [
      "Best model saved at epoch 7 with AUC = 0.7846\n",
      "Epoch 007: | Loss: 0.50428 | Acc: 0.734 | Validation Accuracy: 0.743\n"
     ]
    },
    {
     "name": "stderr",
     "output_type": "stream",
     "text": [
      "  8%|▊         | 8/100 [14:15<2:31:59, 99.13s/it] "
     ]
    },
    {
     "name": "stdout",
     "output_type": "stream",
     "text": [
      "Best model saved at epoch 8 with AUC = 0.7858\n",
      "Epoch 008: | Loss: 0.49635 | Acc: 0.737 | Validation Accuracy: 0.745\n"
     ]
    },
    {
     "name": "stderr",
     "output_type": "stream",
     "text": [
      "  9%|▉         | 9/100 [15:54<2:30:07, 98.98s/it]"
     ]
    },
    {
     "name": "stdout",
     "output_type": "stream",
     "text": [
      "Epoch 009: | Loss: 0.49275 | Acc: 0.739 | Validation Accuracy: 0.746\n"
     ]
    },
    {
     "name": "stderr",
     "output_type": "stream",
     "text": [
      " 10%|█         | 10/100 [17:26<2:25:24, 96.94s/it]"
     ]
    },
    {
     "name": "stdout",
     "output_type": "stream",
     "text": [
      "Best model saved at epoch 10 with AUC = 0.7862\n",
      "Epoch 010: | Loss: 0.49046 | Acc: 0.740 | Validation Accuracy: 0.745\n"
     ]
    },
    {
     "name": "stderr",
     "output_type": "stream",
     "text": [
      " 11%|█         | 11/100 [19:08<2:25:54, 98.37s/it]"
     ]
    },
    {
     "name": "stdout",
     "output_type": "stream",
     "text": [
      "Epoch 011: | Loss: 0.50695 | Acc: 0.730 | Validation Accuracy: 0.744\n"
     ]
    },
    {
     "name": "stderr",
     "output_type": "stream",
     "text": [
      " 12%|█▏        | 12/100 [20:55<2:28:12, 101.05s/it]"
     ]
    },
    {
     "name": "stdout",
     "output_type": "stream",
     "text": [
      "Epoch 012: | Loss: 0.49549 | Acc: 0.738 | Validation Accuracy: 0.740\n"
     ]
    },
    {
     "name": "stderr",
     "output_type": "stream",
     "text": [
      " 13%|█▎        | 13/100 [22:34<2:25:33, 100.38s/it]"
     ]
    },
    {
     "name": "stdout",
     "output_type": "stream",
     "text": [
      "Epoch 013: | Loss: 0.49492 | Acc: 0.737 | Validation Accuracy: 0.744\n"
     ]
    },
    {
     "name": "stderr",
     "output_type": "stream",
     "text": [
      " 14%|█▍        | 14/100 [24:15<2:24:27, 100.78s/it]"
     ]
    },
    {
     "name": "stdout",
     "output_type": "stream",
     "text": [
      "Epoch 014: | Loss: 0.48937 | Acc: 0.740 | Validation Accuracy: 0.743\n"
     ]
    },
    {
     "name": "stderr",
     "output_type": "stream",
     "text": [
      " 15%|█▌        | 15/100 [25:53<2:21:15, 99.72s/it] "
     ]
    },
    {
     "name": "stdout",
     "output_type": "stream",
     "text": [
      "Epoch 015: | Loss: 0.48923 | Acc: 0.740 | Validation Accuracy: 0.747\n"
     ]
    },
    {
     "name": "stderr",
     "output_type": "stream",
     "text": [
      " 16%|█▌        | 16/100 [27:30<2:18:32, 98.96s/it]"
     ]
    },
    {
     "name": "stdout",
     "output_type": "stream",
     "text": [
      "Best model saved at epoch 16 with AUC = 0.7900\n",
      "Epoch 016: | Loss: 0.48497 | Acc: 0.742 | Validation Accuracy: 0.747\n"
     ]
    },
    {
     "name": "stderr",
     "output_type": "stream",
     "text": [
      " 17%|█▋        | 17/100 [29:07<2:16:05, 98.38s/it]"
     ]
    },
    {
     "name": "stdout",
     "output_type": "stream",
     "text": [
      "Best model saved at epoch 17 with AUC = 0.7902\n",
      "Epoch 017: | Loss: 0.48401 | Acc: 0.742 | Validation Accuracy: 0.746\n"
     ]
    },
    {
     "name": "stderr",
     "output_type": "stream",
     "text": [
      " 18%|█▊        | 18/100 [30:49<2:16:06, 99.59s/it]"
     ]
    },
    {
     "name": "stdout",
     "output_type": "stream",
     "text": [
      "Epoch 018: | Loss: 0.48638 | Acc: 0.742 | Validation Accuracy: 0.746\n"
     ]
    },
    {
     "name": "stderr",
     "output_type": "stream",
     "text": [
      " 19%|█▉        | 19/100 [32:27<2:13:50, 99.14s/it]"
     ]
    },
    {
     "name": "stdout",
     "output_type": "stream",
     "text": [
      "Epoch 019: | Loss: 0.48105 | Acc: 0.744 | Validation Accuracy: 0.747\n"
     ]
    },
    {
     "name": "stderr",
     "output_type": "stream",
     "text": [
      " 20%|██        | 20/100 [34:03<2:10:52, 98.16s/it]"
     ]
    },
    {
     "name": "stdout",
     "output_type": "stream",
     "text": [
      "Epoch 020: | Loss: 0.48083 | Acc: 0.744 | Validation Accuracy: 0.745\n"
     ]
    },
    {
     "name": "stderr",
     "output_type": "stream",
     "text": [
      " 21%|██        | 21/100 [35:41<2:08:57, 97.94s/it]"
     ]
    },
    {
     "name": "stdout",
     "output_type": "stream",
     "text": [
      "Best model saved at epoch 21 with AUC = 0.7969\n",
      "Epoch 021: | Loss: 0.47845 | Acc: 0.744 | Validation Accuracy: 0.747\n"
     ]
    },
    {
     "name": "stderr",
     "output_type": "stream",
     "text": [
      " 22%|██▏       | 22/100 [37:12<2:04:50, 96.03s/it]"
     ]
    },
    {
     "name": "stdout",
     "output_type": "stream",
     "text": [
      "Epoch 022: | Loss: 0.47934 | Acc: 0.744 | Validation Accuracy: 0.747\n"
     ]
    },
    {
     "name": "stderr",
     "output_type": "stream",
     "text": [
      " 23%|██▎       | 23/100 [38:47<2:02:52, 95.74s/it]"
     ]
    },
    {
     "name": "stdout",
     "output_type": "stream",
     "text": [
      "Best model saved at epoch 23 with AUC = 0.7977\n",
      "Epoch 023: | Loss: 0.47696 | Acc: 0.745 | Validation Accuracy: 0.745\n"
     ]
    },
    {
     "name": "stderr",
     "output_type": "stream",
     "text": [
      " 24%|██▍       | 24/100 [40:26<2:02:33, 96.75s/it]"
     ]
    },
    {
     "name": "stdout",
     "output_type": "stream",
     "text": [
      "Epoch 024: | Loss: 0.47608 | Acc: 0.745 | Validation Accuracy: 0.747\n"
     ]
    },
    {
     "name": "stderr",
     "output_type": "stream",
     "text": [
      " 25%|██▌       | 25/100 [42:04<2:01:16, 97.02s/it]"
     ]
    },
    {
     "name": "stdout",
     "output_type": "stream",
     "text": [
      "Epoch 025: | Loss: 0.47520 | Acc: 0.746 | Validation Accuracy: 0.747\n"
     ]
    },
    {
     "name": "stderr",
     "output_type": "stream",
     "text": [
      " 26%|██▌       | 26/100 [43:53<2:04:03, 100.59s/it]"
     ]
    },
    {
     "name": "stdout",
     "output_type": "stream",
     "text": [
      "Epoch 026: | Loss: 0.47618 | Acc: 0.745 | Validation Accuracy: 0.748\n"
     ]
    },
    {
     "name": "stderr",
     "output_type": "stream",
     "text": [
      " 27%|██▋       | 27/100 [45:31<2:01:22, 99.76s/it] "
     ]
    },
    {
     "name": "stdout",
     "output_type": "stream",
     "text": [
      "Epoch 027: | Loss: 0.47286 | Acc: 0.746 | Validation Accuracy: 0.747\n"
     ]
    },
    {
     "name": "stderr",
     "output_type": "stream",
     "text": [
      " 28%|██▊       | 28/100 [47:02<1:56:43, 97.28s/it]"
     ]
    },
    {
     "name": "stdout",
     "output_type": "stream",
     "text": [
      "Best model saved at epoch 28 with AUC = 0.7979\n",
      "Epoch 028: | Loss: 0.47493 | Acc: 0.745 | Validation Accuracy: 0.746\n"
     ]
    },
    {
     "name": "stderr",
     "output_type": "stream",
     "text": [
      " 29%|██▉       | 29/100 [48:41<1:55:39, 97.74s/it]"
     ]
    },
    {
     "name": "stdout",
     "output_type": "stream",
     "text": [
      "Epoch 029: | Loss: 0.47293 | Acc: 0.746 | Validation Accuracy: 0.747\n"
     ]
    },
    {
     "name": "stderr",
     "output_type": "stream",
     "text": [
      " 30%|███       | 30/100 [50:17<1:53:28, 97.27s/it]"
     ]
    },
    {
     "name": "stdout",
     "output_type": "stream",
     "text": [
      "Epoch 030: | Loss: 0.47349 | Acc: 0.746 | Validation Accuracy: 0.747\n"
     ]
    },
    {
     "name": "stderr",
     "output_type": "stream",
     "text": [
      " 31%|███       | 31/100 [51:47<1:49:24, 95.14s/it]"
     ]
    },
    {
     "name": "stdout",
     "output_type": "stream",
     "text": [
      "Epoch 031: | Loss: 0.48636 | Acc: 0.741 | Validation Accuracy: 0.747\n"
     ]
    },
    {
     "name": "stderr",
     "output_type": "stream",
     "text": [
      " 32%|███▏      | 32/100 [53:28<1:49:47, 96.87s/it]"
     ]
    },
    {
     "name": "stdout",
     "output_type": "stream",
     "text": [
      "Epoch 032: | Loss: 0.48442 | Acc: 0.743 | Validation Accuracy: 0.746\n"
     ]
    },
    {
     "name": "stderr",
     "output_type": "stream",
     "text": [
      " 33%|███▎      | 33/100 [55:05<1:47:57, 96.67s/it]"
     ]
    },
    {
     "name": "stdout",
     "output_type": "stream",
     "text": [
      "Epoch 033: | Loss: 0.48319 | Acc: 0.743 | Validation Accuracy: 0.747\n"
     ]
    },
    {
     "name": "stderr",
     "output_type": "stream",
     "text": [
      " 34%|███▍      | 34/100 [56:43<1:46:51, 97.14s/it]"
     ]
    },
    {
     "name": "stdout",
     "output_type": "stream",
     "text": [
      "Epoch 034: | Loss: 0.48195 | Acc: 0.744 | Validation Accuracy: 0.745\n"
     ]
    },
    {
     "name": "stderr",
     "output_type": "stream",
     "text": [
      " 35%|███▌      | 35/100 [58:17<1:44:13, 96.21s/it]"
     ]
    },
    {
     "name": "stdout",
     "output_type": "stream",
     "text": [
      "Epoch 035: | Loss: 0.47928 | Acc: 0.745 | Validation Accuracy: 0.747\n"
     ]
    },
    {
     "name": "stderr",
     "output_type": "stream",
     "text": [
      " 36%|███▌      | 36/100 [59:51<1:42:03, 95.68s/it]"
     ]
    },
    {
     "name": "stdout",
     "output_type": "stream",
     "text": [
      "Epoch 036: | Loss: 0.47963 | Acc: 0.744 | Validation Accuracy: 0.746\n"
     ]
    },
    {
     "name": "stderr",
     "output_type": "stream",
     "text": [
      " 37%|███▋      | 37/100 [1:01:30<1:41:33, 96.72s/it]"
     ]
    },
    {
     "name": "stdout",
     "output_type": "stream",
     "text": [
      "Epoch 037: | Loss: 0.47948 | Acc: 0.744 | Validation Accuracy: 0.746\n"
     ]
    },
    {
     "name": "stderr",
     "output_type": "stream",
     "text": [
      " 38%|███▊      | 38/100 [1:03:05<1:39:09, 95.96s/it]"
     ]
    },
    {
     "name": "stdout",
     "output_type": "stream",
     "text": [
      "Best model saved at epoch 38 with AUC = 0.7999\n",
      "Epoch 038: | Loss: 0.47803 | Acc: 0.745 | Validation Accuracy: 0.741\n"
     ]
    },
    {
     "name": "stderr",
     "output_type": "stream",
     "text": [
      " 39%|███▉      | 39/100 [1:04:40<1:37:19, 95.72s/it]"
     ]
    },
    {
     "name": "stdout",
     "output_type": "stream",
     "text": [
      "Epoch 039: | Loss: 0.47852 | Acc: 0.744 | Validation Accuracy: 0.747\n"
     ]
    },
    {
     "name": "stderr",
     "output_type": "stream",
     "text": [
      " 40%|████      | 40/100 [1:06:16<1:35:50, 95.84s/it]"
     ]
    },
    {
     "name": "stdout",
     "output_type": "stream",
     "text": [
      "Best model saved at epoch 40 with AUC = 0.8018\n",
      "Epoch 040: | Loss: 0.47649 | Acc: 0.745 | Validation Accuracy: 0.747\n"
     ]
    },
    {
     "name": "stderr",
     "output_type": "stream",
     "text": [
      " 41%|████      | 41/100 [1:07:55<1:35:03, 96.68s/it]"
     ]
    },
    {
     "name": "stdout",
     "output_type": "stream",
     "text": [
      "Epoch 041: | Loss: 0.47687 | Acc: 0.745 | Validation Accuracy: 0.747\n"
     ]
    },
    {
     "name": "stderr",
     "output_type": "stream",
     "text": [
      " 42%|████▏     | 42/100 [1:09:34<1:34:18, 97.55s/it]"
     ]
    },
    {
     "name": "stdout",
     "output_type": "stream",
     "text": [
      "Epoch 042: | Loss: 0.47631 | Acc: 0.745 | Validation Accuracy: 0.748\n"
     ]
    },
    {
     "name": "stderr",
     "output_type": "stream",
     "text": [
      " 43%|████▎     | 43/100 [1:11:12<1:32:40, 97.56s/it]"
     ]
    },
    {
     "name": "stdout",
     "output_type": "stream",
     "text": [
      "Best model saved at epoch 43 with AUC = 0.8027\n",
      "Epoch 043: | Loss: 0.47500 | Acc: 0.745 | Validation Accuracy: 0.748\n"
     ]
    },
    {
     "name": "stderr",
     "output_type": "stream",
     "text": [
      " 44%|████▍     | 44/100 [1:12:49<1:31:04, 97.58s/it]"
     ]
    },
    {
     "name": "stdout",
     "output_type": "stream",
     "text": [
      "Epoch 044: | Loss: 0.47453 | Acc: 0.744 | Validation Accuracy: 0.747\n"
     ]
    },
    {
     "name": "stderr",
     "output_type": "stream",
     "text": [
      " 45%|████▌     | 45/100 [1:14:21<1:27:49, 95.80s/it]"
     ]
    },
    {
     "name": "stdout",
     "output_type": "stream",
     "text": [
      "Epoch 045: | Loss: 0.47410 | Acc: 0.745 | Validation Accuracy: 0.746\n"
     ]
    },
    {
     "name": "stderr",
     "output_type": "stream",
     "text": [
      " 46%|████▌     | 46/100 [1:16:01<1:27:19, 97.03s/it]"
     ]
    },
    {
     "name": "stdout",
     "output_type": "stream",
     "text": [
      "Epoch 046: | Loss: 0.47334 | Acc: 0.745 | Validation Accuracy: 0.747\n"
     ]
    },
    {
     "name": "stderr",
     "output_type": "stream",
     "text": [
      " 47%|████▋     | 47/100 [1:17:40<1:26:08, 97.51s/it]"
     ]
    },
    {
     "name": "stdout",
     "output_type": "stream",
     "text": [
      "Epoch 047: | Loss: 0.47567 | Acc: 0.744 | Validation Accuracy: 0.747\n"
     ]
    },
    {
     "name": "stderr",
     "output_type": "stream",
     "text": [
      " 48%|████▊     | 48/100 [1:19:17<1:24:37, 97.65s/it]"
     ]
    },
    {
     "name": "stdout",
     "output_type": "stream",
     "text": [
      "Epoch 048: | Loss: 0.47338 | Acc: 0.745 | Validation Accuracy: 0.747\n"
     ]
    },
    {
     "name": "stderr",
     "output_type": "stream",
     "text": [
      " 49%|████▉     | 49/100 [1:20:53<1:22:31, 97.10s/it]"
     ]
    },
    {
     "name": "stdout",
     "output_type": "stream",
     "text": [
      "Epoch 049: | Loss: 0.47354 | Acc: 0.745 | Validation Accuracy: 0.747\n"
     ]
    },
    {
     "name": "stderr",
     "output_type": "stream",
     "text": [
      " 50%|█████     | 50/100 [1:22:28<1:20:19, 96.40s/it]"
     ]
    },
    {
     "name": "stdout",
     "output_type": "stream",
     "text": [
      "Epoch 050: | Loss: 0.47564 | Acc: 0.744 | Validation Accuracy: 0.748\n"
     ]
    },
    {
     "name": "stderr",
     "output_type": "stream",
     "text": [
      " 51%|█████     | 51/100 [1:24:04<1:18:41, 96.35s/it]"
     ]
    },
    {
     "name": "stdout",
     "output_type": "stream",
     "text": [
      "Epoch 051: | Loss: 0.47216 | Acc: 0.746 | Validation Accuracy: 0.747\n"
     ]
    },
    {
     "name": "stderr",
     "output_type": "stream",
     "text": [
      " 52%|█████▏    | 52/100 [1:25:41<1:17:08, 96.43s/it]"
     ]
    },
    {
     "name": "stdout",
     "output_type": "stream",
     "text": [
      "Epoch 052: | Loss: 0.47162 | Acc: 0.746 | Validation Accuracy: 0.746\n"
     ]
    },
    {
     "name": "stderr",
     "output_type": "stream",
     "text": [
      " 52%|█████▏    | 52/100 [1:27:18<1:20:35, 100.74s/it]"
     ]
    },
    {
     "name": "stdout",
     "output_type": "stream",
     "text": [
      "Early stopping triggered at epoch 53\n"
     ]
    },
    {
     "name": "stderr",
     "output_type": "stream",
     "text": [
      "\n"
     ]
    }
   ],
   "source": [
    "# Metrics to keep track of, early stopping parameters\n",
    "train_accuracies = []\n",
    "val_accuracies = []\n",
    "train_loss=[]\n",
    "val_loss=[]\n",
    "best_auc = 0.0\n",
    "epochs_no_improve = 0\n",
    "EPOCHS = 100\n",
    "patience = 10\n",
    "early_stop = False\n",
    "\n",
    "cnn_lstm.train()\n",
    "\n",
    "for e in tqdm(range(1, EPOCHS+1)):\n",
    "    running_loss = 0.0\n",
    "    correct = 0\n",
    "    total = 0\n",
    "\n",
    "    # Training\n",
    "    for X_batch, y_batch in train_loader:\n",
    "        X_batch = X_batch.to(device)\n",
    "        y_batch = y_batch.to(device).view(-1)\n",
    "\n",
    "        optimizer_cnn_lstm.zero_grad() # Reset gradients\n",
    "\n",
    "        y_pred_logits = cnn_lstm(X_batch).view(-1) # Forward pass\n",
    "        y_pred_proba = torch.sigmoid(y_pred_logits) # Convert logits to probabilities\n",
    "        label_predicted = (y_pred_proba >= 0.5).int() # Binary prediction\n",
    "\n",
    "        loss = criterion_cnn_lstm(y_pred_logits, y_batch.float()) # Compute loss\n",
    "        running_loss += loss.item()\n",
    "\n",
    "        total += y_batch.size(0)\n",
    "        correct += (label_predicted == y_batch.int()).sum().item() # Count correct predictions\n",
    "\n",
    "        loss.backward() # Backpropagation\n",
    "        optimizer_cnn_lstm.step() # Update weights\n",
    "\n",
    "    train_acc = correct / total\n",
    "    train_accuracies.append(train_acc)\n",
    "    train_loss.append(running_loss/len(train_loader))\n",
    "\n",
    "    # Validation\n",
    "    cnn_lstm.eval()  # Eval mode - no dropout or gradients\n",
    "    val_correct = 0\n",
    "    val_total = 0\n",
    "    val_running_loss = 0.0\n",
    "    all_val_probs = []\n",
    "    all_val_labels = []\n",
    "    \n",
    "    with torch.no_grad(): # No gradient calculation\n",
    "        for X_batch, y_batch in val_loader:\n",
    "            X_batch = X_batch.to(device)\n",
    "            y_batch = y_batch.to(device).view(-1)\n",
    "\n",
    "            y_pred_logits = cnn_lstm(X_batch).view(-1) # Forward pass\n",
    "            y_pred_proba = torch.sigmoid(y_pred_logits) # Convert logits to probabilities\n",
    "            val_predicted = (y_pred_proba >= 0.5).int() # Binary prediction\n",
    "\n",
    "            # For AUC calculations\n",
    "            all_val_probs.extend(y_pred_proba.cpu().numpy())\n",
    "            all_val_labels.extend(y_batch.cpu().numpy())\n",
    "\n",
    "            loss = criterion_cnn_lstm(y_pred_logits, y_batch.float()) # Compute loss\n",
    "            val_running_loss += loss.item()\n",
    "\n",
    "            val_total += y_batch.size(0)\n",
    "            val_correct += (val_predicted == y_batch.int()).sum().item() # Count correct predictions\n",
    "\n",
    "    # Calulate AUC for model saving\n",
    "    val_auc = roc_auc_score(all_val_labels, all_val_probs)\n",
    "    val_acc = val_correct / val_total\n",
    "    val_accuracies.append(val_acc)\n",
    "    val_loss.append(val_running_loss/len(val_loader))\n",
    "\n",
    "    # Early stopping and save model with best AUC\n",
    "    if val_auc > best_auc:\n",
    "        best_auc = val_auc\n",
    "        torch.save(cnn_lstm.state_dict(), '/kaggle/working/best_cnn_lstm.pth')\n",
    "        print(f\"Best model saved at epoch {e} with AUC = {best_auc:.4f}\")\n",
    "        epochs_no_improve = 0\n",
    "    else:\n",
    "        epochs_no_improve += 1\n",
    "        if epochs_no_improve >= patience:\n",
    "            print(f\"Early stopping triggered at epoch {e}\")\n",
    "            early_stop = True\n",
    "\n",
    "    if early_stop:\n",
    "        break\n",
    "\n",
    "    cnn_lstm.train() # Back to train mode\n",
    "\n",
    "    # Print metrics for current model\n",
    "    print(f'Epoch {e+0:03}: | Loss: {running_loss/len(train_loader):.5f} | Acc: {train_acc:.3f} | Validation Accuracy: {val_acc:.3f}')\n",
    "    scheduler.step() # Update learning rate"
   ]
  },
  {
   "cell_type": "code",
   "execution_count": 8,
   "id": "9943daa2",
   "metadata": {
    "execution": {
     "iopub.execute_input": "2025-05-05T17:27:31.713650Z",
     "iopub.status.busy": "2025-05-05T17:27:31.713394Z",
     "iopub.status.idle": "2025-05-05T17:27:31.736057Z",
     "shell.execute_reply": "2025-05-05T17:27:31.735543Z"
    },
    "papermill": {
     "duration": 0.032497,
     "end_time": "2025-05-05T17:27:31.737275",
     "exception": false,
     "start_time": "2025-05-05T17:27:31.704778",
     "status": "completed"
    },
    "tags": []
   },
   "outputs": [],
   "source": [
    "# Save final model\n",
    "torch.save(cnn_lstm.state_dict(), \"/kaggle/working/final_cnn_lstm.pth\")"
   ]
  },
  {
   "cell_type": "code",
   "execution_count": 9,
   "id": "002a9aaa",
   "metadata": {
    "execution": {
     "iopub.execute_input": "2025-05-05T17:27:31.769424Z",
     "iopub.status.busy": "2025-05-05T17:27:31.769198Z",
     "iopub.status.idle": "2025-05-05T17:27:31.775686Z",
     "shell.execute_reply": "2025-05-05T17:27:31.775157Z"
    },
    "papermill": {
     "duration": 0.016131,
     "end_time": "2025-05-05T17:27:31.776720",
     "exception": false,
     "start_time": "2025-05-05T17:27:31.760589",
     "status": "completed"
    },
    "tags": []
   },
   "outputs": [],
   "source": [
    "def plot_train_val_accuracy(train_accuracies,val_accuracies, title='Training and Validation Accuracy', y_lims=[0, 1]):\n",
    "    \"\"\"\n",
    "    Plots training and validation accuracy over epochs\n",
    "    \"\"\"\n",
    "    plt.figure(figsize=(10, 5))\n",
    "    plt.plot(range(1, len(train_accuracies) + 1), train_accuracies, label='Train Accuracy', color='blue', marker='o')\n",
    "    plt.plot(range(1, len(val_accuracies) + 1), val_accuracies, label='Validation Accuracy', color='red', marker='s')\n",
    "    plt.xlabel('Epochs')\n",
    "    plt.ylabel('Accuracy')\n",
    "    plt.title(title)\n",
    "    plt.ylim(y_lims[0], y_lims[1])\n",
    "    plt.legend()\n",
    "    plt.grid()\n",
    "    plt.savefig('/kaggle/working/accuracy.png')\n",
    "    plt.show()\n",
    "\n",
    "def plot_train_val_loss(train_loss,val_loss, title='Training and Validation Loss'):\n",
    "    \"\"\"\n",
    "    Plots training and validation loss over epochs\n",
    "    \"\"\"\n",
    "    plt.figure(figsize=(10, 5))\n",
    "    plt.plot(range(1, len(train_loss) + 1), train_loss, label='Train Loss', color='blue', marker='o')\n",
    "    plt.plot(range(1, len(val_loss) + 1), val_loss, label='Validation Loss', color='red', marker='s')\n",
    "    plt.xlabel('Epochs')\n",
    "    plt.ylabel('Loss')\n",
    "    plt.title(title)\n",
    "    plt.legend()\n",
    "    plt.grid()\n",
    "    plt.savefig('/kaggle/working/loss.png')"
   ]
  },
  {
   "cell_type": "code",
   "execution_count": 10,
   "id": "6b2a753a",
   "metadata": {
    "execution": {
     "iopub.execute_input": "2025-05-05T17:27:31.792844Z",
     "iopub.status.busy": "2025-05-05T17:27:31.792636Z",
     "iopub.status.idle": "2025-05-05T17:27:32.351999Z",
     "shell.execute_reply": "2025-05-05T17:27:32.351396Z"
    },
    "papermill": {
     "duration": 0.568844,
     "end_time": "2025-05-05T17:27:32.353359",
     "exception": false,
     "start_time": "2025-05-05T17:27:31.784515",
     "status": "completed"
    },
    "tags": []
   },
   "outputs": [
    {
     "data": {
      "image/png": "[encoded data removed]",
      "text/plain": [
       "<Figure size 1000x500 with 1 Axes>"
      ]
     },
     "metadata": {},
     "output_type": "display_data"
    },
    {
     "data": {
      "image/png": "[encoded data removed]",
      "text/plain": [
       "<Figure size 1000x500 with 1 Axes>"
      ]
     },
     "metadata": {},
     "output_type": "display_data"
    }
   ],
   "source": [
    "# Plot accuracy and loss curves\n",
    "plot_train_val_accuracy(train_accuracies, val_accuracies)\n",
    "plot_train_val_loss(train_loss, val_loss)"
   ]
  },
  {
   "cell_type": "markdown",
   "id": "14812f6b",
   "metadata": {
    "papermill": {
     "duration": 0.008677,
     "end_time": "2025-05-05T17:27:32.371601",
     "exception": false,
     "start_time": "2025-05-05T17:27:32.362924",
     "status": "completed"
    },
    "tags": []
   },
   "source": [
    "## Test data\n",
    "Run model on the test data and view results"
   ]
  },
  {
   "cell_type": "code",
   "execution_count": 11,
   "id": "8aef1433",
   "metadata": {
    "execution": {
     "iopub.execute_input": "2025-05-05T17:27:32.389707Z",
     "iopub.status.busy": "2025-05-05T17:27:32.389510Z",
     "iopub.status.idle": "2025-05-05T17:28:22.347176Z",
     "shell.execute_reply": "2025-05-05T17:28:22.346138Z"
    },
    "papermill": {
     "duration": 49.968475,
     "end_time": "2025-05-05T17:28:22.348729",
     "exception": false,
     "start_time": "2025-05-05T17:27:32.380254",
     "status": "completed"
    },
    "tags": []
   },
   "outputs": [
    {
     "name": "stderr",
     "output_type": "stream",
     "text": [
      "/tmp/ipykernel_19/1032229002.py:2: FutureWarning: You are using `torch.load` with `weights_only=False` (the current default value), which uses the default pickle module implicitly. It is possible to construct malicious pickle data which will execute arbitrary code during unpickling (See https://github.com/pytorch/pytorch/blob/main/SECURITY.md#untrusted-models for more details). In a future release, the default value for `weights_only` will be flipped to `True`. This limits the functions that could be executed during unpickling. Arbitrary objects will no longer be allowed to be loaded via this mode unless they are explicitly allowlisted by the user via `torch.serialization.add_safe_globals`. We recommend you start setting `weights_only=True` for any use case where you don't have full control of the loaded file. Please open an issue on GitHub for any issues related to this experimental feature.\n",
      "  cnn_lstm.load_state_dict(torch.load('/kaggle/working/best_cnn_lstm.pth'))\n"
     ]
    }
   ],
   "source": [
    "# Run model on test data and keep track of metrics\n",
    "cnn_lstm.load_state_dict(torch.load('/kaggle/working/best_cnn_lstm.pth'))\n",
    "cnn_lstm.eval()\n",
    "correct = 0\n",
    "total = 0\n",
    "all_probs = []\n",
    "all_preds = []\n",
    "all_labels = []\n",
    "\n",
    "with torch.no_grad(): # No gradient calculation\n",
    "    for X_batch, y_batch in test_loader:\n",
    "        \n",
    "        X_batch = X_batch.to(device)\n",
    "        y_batch = y_batch.to(device).view(-1) \n",
    "        \n",
    "        output = cnn_lstm(X_batch).view(-1) # Forward pass\n",
    "        probs = torch.sigmoid(output) # Convert logits to probabilities\n",
    "        preds = (probs >= 0.5).float() # Binary prediction\n",
    "\n",
    "        # Keep track of metrics\n",
    "        all_probs.extend(probs.cpu().numpy())\n",
    "        all_preds.extend(preds.cpu().numpy())\n",
    "        all_labels.extend(y_batch.cpu().numpy())\n",
    "        \n",
    "        correct += (preds == y_batch).sum().item()\n",
    "        total += y_batch.size(0)"
   ]
  },
  {
   "cell_type": "code",
   "execution_count": 12,
   "id": "a3291b4f",
   "metadata": {
    "execution": {
     "iopub.execute_input": "2025-05-05T17:28:22.369737Z",
     "iopub.status.busy": "2025-05-05T17:28:22.369477Z",
     "iopub.status.idle": "2025-05-05T17:28:22.376035Z",
     "shell.execute_reply": "2025-05-05T17:28:22.375534Z"
    },
    "papermill": {
     "duration": 0.017414,
     "end_time": "2025-05-05T17:28:22.376970",
     "exception": false,
     "start_time": "2025-05-05T17:28:22.359556",
     "status": "completed"
    },
    "tags": []
   },
   "outputs": [],
   "source": [
    "# Convert result lists to arrays\n",
    "y_test = np.array(all_labels)\n",
    "y_pred = np.array(all_preds)\n",
    "y_prob = np.array(all_probs)\n",
    "\n",
    "# Save arrays\n",
    "np.save('/kaggle/working/y_test_tuned.npy', y_test)\n",
    "np.save('/kaggle/working/y_pred_tuned.npy', y_pred)\n",
    "np.save('/kaggle/working/y_prob_tuned.npy', y_prob)"
   ]
  },
  {
   "cell_type": "code",
   "execution_count": 13,
   "id": "98b4260f",
   "metadata": {
    "execution": {
     "iopub.execute_input": "2025-05-05T17:28:22.395796Z",
     "iopub.status.busy": "2025-05-05T17:28:22.395547Z",
     "iopub.status.idle": "2025-05-05T17:28:22.425733Z",
     "shell.execute_reply": "2025-05-05T17:28:22.424926Z"
    },
    "papermill": {
     "duration": 0.04069,
     "end_time": "2025-05-05T17:28:22.426754",
     "exception": false,
     "start_time": "2025-05-05T17:28:22.386064",
     "status": "completed"
    },
    "tags": []
   },
   "outputs": [
    {
     "name": "stdout",
     "output_type": "stream",
     "text": [
      "Confusion Matrix:\n",
      "                  Predicted Healthy  Predicted COVID\n",
      "Actually Healthy               3400                1\n",
      "Actually COVID                 1669             1750\n",
      "\n",
      "--------------------------------------------------------------------------------\n",
      "\n",
      "Classification Report:\n",
      "              precision    recall  f1-score   support\n",
      "\n",
      "         0.0       0.67      1.00      0.80      3401\n",
      "         1.0       1.00      0.51      0.68      3419\n",
      "\n",
      "    accuracy                           0.76      6820\n",
      "   macro avg       0.84      0.76      0.74      6820\n",
      "weighted avg       0.84      0.76      0.74      6820\n",
      "\n"
     ]
    }
   ],
   "source": [
    "# Confusion matrix\n",
    "cm = confusion_matrix(y_test, y_pred)\n",
    "confusion_df = pd.DataFrame(cm,\n",
    "                            index = ['Actually Healthy', 'Actually COVID'],\n",
    "                            columns = ['Predicted Healthy', 'Predicted COVID'])\n",
    "print(\"Confusion Matrix:\")\n",
    "print(confusion_df)\n",
    "print(\"\\n\" + \"-\"*80 + \"\\n\")\n",
    "\n",
    "# Classification report\n",
    "print(\"Classification Report:\")\n",
    "print(classification_report(y_test, y_pred, zero_division=0))"
   ]
  },
  {
   "cell_type": "code",
   "execution_count": 14,
   "id": "626f0f8c",
   "metadata": {
    "execution": {
     "iopub.execute_input": "2025-05-05T17:28:22.445485Z",
     "iopub.status.busy": "2025-05-05T17:28:22.445278Z",
     "iopub.status.idle": "2025-05-05T17:28:22.463533Z",
     "shell.execute_reply": "2025-05-05T17:28:22.462808Z"
    },
    "papermill": {
     "duration": 0.028893,
     "end_time": "2025-05-05T17:28:22.464568",
     "exception": false,
     "start_time": "2025-05-05T17:28:22.435675",
     "status": "completed"
    },
    "tags": []
   },
   "outputs": [
    {
     "name": "stdout",
     "output_type": "stream",
     "text": [
      "Test Accuracy: 0.7551\n",
      "Precision: 0.9994\n",
      "Recall: 0.511846\n",
      "F1-Score: 0.6770\n",
      "AUC: 0.8133\n"
     ]
    }
   ],
   "source": [
    "# Compute and print metrics\n",
    "accuracy = accuracy_score(y_test, y_pred)\n",
    "precision = precision_score(y_test, y_pred, zero_division=0)\n",
    "recall = recall_score(y_test, y_pred, zero_division=0)\n",
    "f1 = f1_score(y_test, y_pred, zero_division=0)\n",
    "auc = roc_auc_score(y_test, y_prob)\n",
    "fpr, tpr, thresholds = roc_curve(y_test, y_prob)\n",
    "\n",
    "print(f\"Test Accuracy: {accuracy:.4f}\")\n",
    "print(f\"Precision: {precision:.4f}\")\n",
    "print(f\"Recall: {recall:4f}\")\n",
    "print(f\"F1-Score: {f1:.4f}\")\n",
    "print(f\"AUC: {auc:.4f}\")"
   ]
  },
  {
   "cell_type": "code",
   "execution_count": 15,
   "id": "1d298918",
   "metadata": {
    "execution": {
     "iopub.execute_input": "2025-05-05T17:28:22.483346Z",
     "iopub.status.busy": "2025-05-05T17:28:22.483086Z",
     "iopub.status.idle": "2025-05-05T17:28:22.491665Z",
     "shell.execute_reply": "2025-05-05T17:28:22.491102Z"
    },
    "papermill": {
     "duration": 0.019208,
     "end_time": "2025-05-05T17:28:22.492670",
     "exception": false,
     "start_time": "2025-05-05T17:28:22.473462",
     "status": "completed"
    },
    "tags": []
   },
   "outputs": [],
   "source": [
    "def plot_roc_curve(fpr, tpr):\n",
    "    \"\"\"\n",
    "    Plot ROC curve\n",
    "    \"\"\"\n",
    "    plt.figure(figsize=(5, 5))\n",
    "    plt.plot(fpr, tpr, label=f\"ROC Curve (AUC = {auc:.2f})\", color='blue', linewidth=2)\n",
    "    plt.plot([0,1], [0,1], 'k--', label='Random Classifier')\n",
    "    plt.xlabel('False Positive Rate')\n",
    "    plt.ylabel('True Positive Rate')\n",
    "    plt.title('ROC Curve')\n",
    "    plt.legend(loc='lower right')\n",
    "    plt.grid(True, alpha=0.2)\n",
    "    plt.tight_layout()\n",
    "    plt.savefig('/kaggle/working/roc.png')\n",
    "    plt.show()\n",
    "\n",
    "def pr_and_f1_curves(y_true, y_prob):\n",
    "    \"\"\"\n",
    "    Plot precision-recall curve and F1 vs threshold curve\n",
    "    \"\"\"\n",
    "    prec, rec, thresh = precision_recall_curve(y_true, y_prob)\n",
    "    prec, rec = prec[:-1], rec[:-1]\n",
    "    f1 = 2 * (prec * rec) / (prec + rec + 1e-8)\n",
    "\n",
    "    best_idx      = np.argmax(f1)\n",
    "    best_thr      = thresh[best_idx]\n",
    "    best_f1       = f1[best_idx]\n",
    "    avg_prec      = average_precision_score(y_true, y_prob)\n",
    "\n",
    "    fig, ax = plt.subplots(1, 2, figsize=(11, 4.5))\n",
    "\n",
    "    # Left: PR curve\n",
    "    ax[0].plot(rec, prec, color='blue', label=f'PR curve  (AP = {avg_prec:.3f})')\n",
    "    ax[0].scatter(rec[best_idx], prec[best_idx], color='red', zorder=5,\n",
    "                  label=f'Best F₁ = {best_f1:.3f}\\n@ thr = {best_thr:.2f}')\n",
    "    ax[0].set_xlabel('Recall')\n",
    "    ax[0].set_ylabel('Precision')\n",
    "    ax[0].set_title('Precision–Recall curve')\n",
    "    ax[0].legend()\n",
    "    ax[0].grid(True)\n",
    "\n",
    "    # Right: F1 vs threshold\n",
    "    ax[1].plot(thresh, f1, color='blue')\n",
    "    ax[1].scatter(best_thr, best_f1, color='red', zorder=5)\n",
    "    ax[1].set_xlabel('Threshold')\n",
    "    ax[1].set_ylabel('F₁ score')\n",
    "    ax[1].set_title('F₁ score vs decision threshold')\n",
    "    ax[1].grid(True)\n",
    "\n",
    "    plt.tight_layout()\n",
    "    plt.savefig('/kaggle/working/pr_f1.png')\n",
    "    plt.show()\n",
    "\n",
    "    return best_thr, best_f1"
   ]
  },
  {
   "cell_type": "code",
   "execution_count": 16,
   "id": "4925a380",
   "metadata": {
    "execution": {
     "iopub.execute_input": "2025-05-05T17:28:22.511480Z",
     "iopub.status.busy": "2025-05-05T17:28:22.511238Z",
     "iopub.status.idle": "2025-05-05T17:28:22.789557Z",
     "shell.execute_reply": "2025-05-05T17:28:22.788860Z"
    },
    "papermill": {
     "duration": 0.288792,
     "end_time": "2025-05-05T17:28:22.790644",
     "exception": false,
     "start_time": "2025-05-05T17:28:22.501852",
     "status": "completed"
    },
    "tags": []
   },
   "outputs": [
    {
     "data": {
      "image/png": "[encoded data removed]",
      "text/plain": [
       "<Figure size 500x500 with 1 Axes>"
      ]
     },
     "metadata": {},
     "output_type": "display_data"
    }
   ],
   "source": [
    "# ROC curve\n",
    "plot_roc_curve(fpr, tpr)"
   ]
  },
  {
   "cell_type": "markdown",
   "id": "a0a035f5",
   "metadata": {
    "papermill": {
     "duration": 0.009209,
     "end_time": "2025-05-05T17:28:22.809681",
     "exception": false,
     "start_time": "2025-05-05T17:28:22.800472",
     "status": "completed"
    },
    "tags": []
   },
   "source": [
    "## Maximizing F1 score\n",
    "Inspect the precision-recall curve and F1 vs threshold score, and change threshold to maximize F1 score"
   ]
  },
  {
   "cell_type": "code",
   "execution_count": 17,
   "id": "20124b19",
   "metadata": {
    "execution": {
     "iopub.execute_input": "2025-05-05T17:28:22.829437Z",
     "iopub.status.busy": "2025-05-05T17:28:22.828999Z",
     "iopub.status.idle": "2025-05-05T17:28:23.444936Z",
     "shell.execute_reply": "2025-05-05T17:28:23.444314Z"
    },
    "papermill": {
     "duration": 0.627823,
     "end_time": "2025-05-05T17:28:23.446829",
     "exception": false,
     "start_time": "2025-05-05T17:28:22.819006",
     "status": "completed"
    },
    "tags": []
   },
   "outputs": [
    {
     "data": {
      "image/png": "[encoded data removed]",
      "text/plain": [
       "<Figure size 1100x450 with 2 Axes>"
      ]
     },
     "metadata": {},
     "output_type": "display_data"
    },
    {
     "name": "stdout",
     "output_type": "stream",
     "text": [
      "Optimal threshold = 0.233  |  Best F1 = 0.722\n"
     ]
    }
   ],
   "source": [
    "# Plot precision-recall and F1 vs threshold plots\n",
    "best_thr, best_f1 = pr_and_f1_curves(all_labels, all_probs)\n",
    "print(f\"Optimal threshold = {best_thr:.3f}  |  Best F1 = {best_f1:.3f}\")"
   ]
  },
  {
   "cell_type": "code",
   "execution_count": 18,
   "id": "05b83a93",
   "metadata": {
    "execution": {
     "iopub.execute_input": "2025-05-05T17:28:23.469056Z",
     "iopub.status.busy": "2025-05-05T17:28:23.468863Z",
     "iopub.status.idle": "2025-05-05T17:28:23.472664Z",
     "shell.execute_reply": "2025-05-05T17:28:23.472154Z"
    },
    "papermill": {
     "duration": 0.015906,
     "end_time": "2025-05-05T17:28:23.473611",
     "exception": false,
     "start_time": "2025-05-05T17:28:23.457705",
     "status": "completed"
    },
    "tags": []
   },
   "outputs": [],
   "source": [
    "# Change threshold to maximise F1 score\n",
    "final_preds = (np.array(all_probs) >= best_thr).astype(int)"
   ]
  },
  {
   "cell_type": "code",
   "execution_count": 19,
   "id": "47c2e58e",
   "metadata": {
    "execution": {
     "iopub.execute_input": "2025-05-05T17:28:23.495066Z",
     "iopub.status.busy": "2025-05-05T17:28:23.494884Z",
     "iopub.status.idle": "2025-05-05T17:28:23.523201Z",
     "shell.execute_reply": "2025-05-05T17:28:23.522450Z"
    },
    "papermill": {
     "duration": 0.040326,
     "end_time": "2025-05-05T17:28:23.524280",
     "exception": false,
     "start_time": "2025-05-05T17:28:23.483954",
     "status": "completed"
    },
    "tags": []
   },
   "outputs": [
    {
     "name": "stdout",
     "output_type": "stream",
     "text": [
      "Confusion Matrix:\n",
      "                  Predicted Healthy  Predicted COVID\n",
      "Actually Healthy               1639             1762\n",
      "Actually COVID                  489             2930\n",
      "\n",
      "--------------------------------------------------------------------------------\n",
      "\n",
      "Classification Report:\n",
      "              precision    recall  f1-score   support\n",
      "\n",
      "         0.0       0.77      0.48      0.59      3401\n",
      "         1.0       0.62      0.86      0.72      3419\n",
      "\n",
      "    accuracy                           0.67      6820\n",
      "   macro avg       0.70      0.67      0.66      6820\n",
      "weighted avg       0.70      0.67      0.66      6820\n",
      "\n"
     ]
    }
   ],
   "source": [
    "# New confusion matrix\n",
    "cm = confusion_matrix(y_test, final_preds)\n",
    "confusion_df = pd.DataFrame(cm,\n",
    "                            index = ['Actually Healthy', 'Actually COVID'],\n",
    "                            columns = ['Predicted Healthy', 'Predicted COVID'])\n",
    "print(\"Confusion Matrix:\")\n",
    "print(confusion_df)\n",
    "print(\"\\n\" + \"-\"*80 + \"\\n\")\n",
    "\n",
    "# New classification report\n",
    "print(\"Classification Report:\")\n",
    "print(classification_report(y_test, final_preds, zero_division=0))"
   ]
  },
  {
   "cell_type": "code",
   "execution_count": 20,
   "id": "a22f8662",
   "metadata": {
    "execution": {
     "iopub.execute_input": "2025-05-05T17:28:23.545450Z",
     "iopub.status.busy": "2025-05-05T17:28:23.545247Z",
     "iopub.status.idle": "2025-05-05T17:28:23.559721Z",
     "shell.execute_reply": "2025-05-05T17:28:23.559130Z"
    },
    "papermill": {
     "duration": 0.026304,
     "end_time": "2025-05-05T17:28:23.560821",
     "exception": false,
     "start_time": "2025-05-05T17:28:23.534517",
     "status": "completed"
    },
    "tags": []
   },
   "outputs": [
    {
     "name": "stdout",
     "output_type": "stream",
     "text": [
      "Test Accuracy: 0.6699\n",
      "Precision: 0.6245\n",
      "Recall: 0.856976\n",
      "F1-Score: 0.7225\n",
      "AUC: 0.8133\n"
     ]
    }
   ],
   "source": [
    "# Recompute and print metrics\n",
    "accuracy = accuracy_score(y_test, final_preds)\n",
    "precision = precision_score(y_test, final_preds, zero_division=0)\n",
    "recall = recall_score(y_test, final_preds, zero_division=0)\n",
    "f1 = f1_score(y_test, final_preds, zero_division=0)\n",
    "auc = roc_auc_score(y_test, y_prob)\n",
    "fpr, tpr, thresholds = roc_curve(y_test, y_prob)\n",
    "\n",
    "print(f\"Test Accuracy: {accuracy:.4f}\")\n",
    "print(f\"Precision: {precision:.4f}\")\n",
    "print(f\"Recall: {recall:4f}\")\n",
    "print(f\"F1-Score: {f1:.4f}\")\n",
    "print(f\"AUC: {auc:.4f}\")"
   ]
  },
  {
   "cell_type": "code",
   "execution_count": null,
   "id": "69a20072",
   "metadata": {
    "papermill": {
     "duration": 0.010421,
     "end_time": "2025-05-05T17:28:23.581931",
     "exception": false,
     "start_time": "2025-05-05T17:28:23.571510",
     "status": "completed"
    },
    "tags": []
   },
   "outputs": [],
   "source": []
  }
 ],
 "metadata": {
  "kaggle": {
   "accelerator": "gpu",
   "dataSources": [
    {
     "datasetId": 7243407,
     "sourceId": 11550545,
     "sourceType": "datasetVersion"
    }
   ],
   "dockerImageVersionId": 31011,
   "isGpuEnabled": true,
   "isInternetEnabled": false,
   "language": "python",
   "sourceType": "notebook"
  },
  "kernelspec": {
   "display_name": "Python 3 (ipykernel)",
   "language": "python",
   "name": "python3"
  },
  "language_info": {
   "codemirror_mode": {
    "name": "ipython",
    "version": 3
   },
   "file_extension": ".py",
   "mimetype": "text/x-python",
   "name": "python",
   "nbconvert_exporter": "python",
   "pygments_lexer": "ipython3",
   "version": "3.11.4"
  },
  "papermill": {
   "default_parameters": {},
   "duration": 5307.419896,
   "end_time": "2025-05-05T17:28:25.964292",
   "environment_variables": {},
   "exception": null,
   "input_path": "__notebook__.ipynb",
   "output_path": "__notebook__.ipynb",
   "parameters": {},
   "start_time": "2025-05-05T15:59:58.544396",
   "version": "2.6.0"
  }
 },
 "nbformat": 4,
 "nbformat_minor": 5
}
