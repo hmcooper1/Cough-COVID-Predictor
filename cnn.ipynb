{
 "cells": [
  {
   "cell_type": "markdown",
   "id": "6c939db8",
   "metadata": {
    "papermill": {
     "duration": 0.005572,
     "end_time": "2025-05-05T18:34:15.337939",
     "exception": false,
     "start_time": "2025-05-05T18:34:15.332367",
     "status": "completed"
    },
    "tags": []
   },
   "source": [
    "## Set up\n",
    "Import all required libraries"
   ]
  },
  {
   "cell_type": "code",
   "execution_count": 1,
   "id": "c5197ba5",
   "metadata": {
    "execution": {
     "iopub.execute_input": "2025-05-05T18:34:15.349800Z",
     "iopub.status.busy": "2025-05-05T18:34:15.349512Z",
     "iopub.status.idle": "2025-05-05T18:34:21.911670Z",
     "shell.execute_reply": "2025-05-05T18:34:21.910978Z"
    },
    "papermill": {
     "duration": 6.570423,
     "end_time": "2025-05-05T18:34:21.913119",
     "exception": false,
     "start_time": "2025-05-05T18:34:15.342696",
     "status": "completed"
    },
    "tags": []
   },
   "outputs": [],
   "source": [
    "# Libraries\n",
    "import pandas as pd\n",
    "import numpy as np\n",
    "import matplotlib.pyplot as plt\n",
    "import os\n",
    "import random\n",
    "import cv2\n",
    "import gc\n",
    "import torch\n",
    "import torch.nn as nn\n",
    "from tqdm import tqdm\n",
    "from torch.utils.data import Dataset, DataLoader, Subset\n",
    "from sklearn.model_selection import train_test_split, KFold\n",
    "from sklearn.utils.class_weight import compute_class_weight\n",
    "from sklearn.metrics import (f1_score, roc_auc_score, precision_score, recall_score,\n",
    "                             accuracy_score, confusion_matrix, classification_report,\n",
    "                             roc_curve, precision_recall_curve, average_precision_score)"
   ]
  },
  {
   "cell_type": "code",
   "execution_count": 2,
   "id": "b319d74c",
   "metadata": {
    "execution": {
     "iopub.execute_input": "2025-05-05T18:34:21.922616Z",
     "iopub.status.busy": "2025-05-05T18:34:21.921948Z",
     "iopub.status.idle": "2025-05-05T18:34:21.929357Z",
     "shell.execute_reply": "2025-05-05T18:34:21.928762Z"
    },
    "papermill": {
     "duration": 0.013119,
     "end_time": "2025-05-05T18:34:21.930458",
     "exception": false,
     "start_time": "2025-05-05T18:34:21.917339",
     "status": "completed"
    },
    "tags": []
   },
   "outputs": [],
   "source": [
    "# Set random seeds\n",
    "random.seed(42)\n",
    "torch.manual_seed(42)\n",
    "np.random.seed(42)"
   ]
  },
  {
   "cell_type": "markdown",
   "id": "668555e7",
   "metadata": {
    "papermill": {
     "duration": 0.003621,
     "end_time": "2025-05-05T18:34:21.937970",
     "exception": false,
     "start_time": "2025-05-05T18:34:21.934349",
     "status": "completed"
    },
    "tags": []
   },
   "source": [
    "## Data\n",
    "Load and preprocess data"
   ]
  },
  {
   "cell_type": "code",
   "execution_count": 3,
   "id": "4bfac052",
   "metadata": {
    "execution": {
     "iopub.execute_input": "2025-05-05T18:34:21.946391Z",
     "iopub.status.busy": "2025-05-05T18:34:21.946158Z",
     "iopub.status.idle": "2025-05-05T18:34:22.018597Z",
     "shell.execute_reply": "2025-05-05T18:34:22.018041Z"
    },
    "papermill": {
     "duration": 0.078379,
     "end_time": "2025-05-05T18:34:22.020026",
     "exception": false,
     "start_time": "2025-05-05T18:34:21.941647",
     "status": "completed"
    },
    "tags": []
   },
   "outputs": [],
   "source": [
    "# Set image and metadata paths\n",
    "img_dir = \"/kaggle/input/covid-audio-data/augmented_melspectograms/melspectograms/\"\n",
    "label_df = pd.read_csv(\"/kaggle/input/covid-audio-data/labels.csv\")\n",
    "\n",
    "train_df, test_df = train_test_split(label_df, \n",
    "                                     test_size=0.2, \n",
    "                                     stratify=label_df[\"label\"], \n",
    "                                     random_state=42)\n",
    "train_df, val_df = train_test_split(train_df, \n",
    "                                    test_size=0.1, \n",
    "                                    stratify=train_df[\"label\"], \n",
    "                                    random_state=42)\n",
    "\n",
    "# PyTorch Dataset for loading melspectrogram images and their corresponding labels\n",
    "class MelSpectrogramDataset(Dataset):\n",
    "    def __init__(self, df, img_dir):\n",
    "        self.df = df.reset_index(drop=True)\n",
    "        self.img_dir = img_dir\n",
    "\n",
    "    def __len__(self):\n",
    "        return len(self.df)\n",
    "\n",
    "    def __getitem__(self, idx):\n",
    "        label = self.df.iloc[idx][\"label\"]\n",
    "        filename = self.df.iloc[idx][\"filename\"]\n",
    "\n",
    "        # Read image\n",
    "        img_path = os.path.join(self.img_dir, filename)\n",
    "        img = cv2.imread(img_path)\n",
    "        img = img.astype(np.float32) / 255.0\n",
    "        img = img.transpose(2, 0, 1)  # Convert (H, W, C) to (C, H, W)\n",
    "\n",
    "        return torch.tensor(img, dtype=torch.float32), torch.tensor(label, dtype=torch.float32)"
   ]
  },
  {
   "cell_type": "code",
   "execution_count": 4,
   "id": "2798704e",
   "metadata": {
    "execution": {
     "iopub.execute_input": "2025-05-05T18:34:22.028845Z",
     "iopub.status.busy": "2025-05-05T18:34:22.028602Z",
     "iopub.status.idle": "2025-05-05T18:34:22.151716Z",
     "shell.execute_reply": "2025-05-05T18:34:22.151173Z"
    },
    "papermill": {
     "duration": 0.128688,
     "end_time": "2025-05-05T18:34:22.152868",
     "exception": false,
     "start_time": "2025-05-05T18:34:22.024180",
     "status": "completed"
    },
    "tags": []
   },
   "outputs": [],
   "source": [
    "# Set up data loaders\n",
    "BATCH_SIZE = 128\n",
    "\n",
    "train_dataset = MelSpectrogramDataset(train_df, img_dir)\n",
    "val_dataset = MelSpectrogramDataset(val_df, img_dir)\n",
    "test_dataset = MelSpectrogramDataset(test_df, img_dir)\n",
    "\n",
    "train_loader = DataLoader(train_dataset, \n",
    "                          batch_size=BATCH_SIZE, \n",
    "                          shuffle=True, \n",
    "                          num_workers=2, \n",
    "                          pin_memory=True)\n",
    "test_loader = DataLoader(test_dataset, \n",
    "                         batch_size=BATCH_SIZE, \n",
    "                         shuffle=False, \n",
    "                         num_workers=2, \n",
    "                         pin_memory=True)\n",
    "val_loader = DataLoader(val_dataset, \n",
    "                        batch_size=BATCH_SIZE, \n",
    "                        shuffle=False, \n",
    "                        num_workers=2, \n",
    "                        pin_memory=True)\n",
    "\n",
    "# Clear unused memory\n",
    "gc.collect()\n",
    "torch.cuda.empty_cache()"
   ]
  },
  {
   "cell_type": "markdown",
   "id": "2995c030",
   "metadata": {
    "papermill": {
     "duration": 0.003792,
     "end_time": "2025-05-05T18:34:22.160783",
     "exception": false,
     "start_time": "2025-05-05T18:34:22.156991",
     "status": "completed"
    },
    "tags": []
   },
   "source": [
    "## Model\n",
    "Build and train model"
   ]
  },
  {
   "cell_type": "code",
   "execution_count": 5,
   "id": "0f6e28da",
   "metadata": {
    "execution": {
     "iopub.execute_input": "2025-05-05T18:34:22.169432Z",
     "iopub.status.busy": "2025-05-05T18:34:22.169183Z",
     "iopub.status.idle": "2025-05-05T18:34:22.177079Z",
     "shell.execute_reply": "2025-05-05T18:34:22.176324Z"
    },
    "papermill": {
     "duration": 0.013611,
     "end_time": "2025-05-05T18:34:22.178149",
     "exception": false,
     "start_time": "2025-05-05T18:34:22.164538",
     "status": "completed"
    },
    "tags": []
   },
   "outputs": [],
   "source": [
    "class ConvNet(nn.Module):\n",
    "    def __init__(self, input_dim,hidden_size_1=16,hidden_size_2=32, hidden_size_3=64, hidden_size_4=128):\n",
    "        super(ConvNet, self).__init__()\n",
    "        \n",
    "        self.layer1 = nn.Sequential(\n",
    "            nn.Conv2d(input_dim[0], hidden_size_1, kernel_size=2, stride=1, padding=1), # Convolutional layer\n",
    "            nn.BatchNorm2d(hidden_size_1),\n",
    "            nn.ReLU(),\n",
    "            nn.AvgPool2d(kernel_size=2, stride=2),\n",
    "            nn.Dropout(0.3))\n",
    "        self.layer2 = nn.Sequential(\n",
    "            nn.Conv2d(hidden_size_1, hidden_size_2, kernel_size=2, stride=1, padding=1),\n",
    "            nn.BatchNorm2d(hidden_size_2),\n",
    "            nn.ReLU(),\n",
    "            nn.AvgPool2d(kernel_size=2, stride=2),\n",
    "            nn.Dropout(0.3))\n",
    "        self.layer3 = nn.Sequential(\n",
    "            nn.Conv2d(hidden_size_2, hidden_size_3, kernel_size=2, stride=1, padding=1),\n",
    "            nn.BatchNorm2d(hidden_size_3),\n",
    "            nn.ReLU(),\n",
    "            nn.AvgPool2d(kernel_size=2, stride=2),\n",
    "            nn.Dropout(0.3))\n",
    "\n",
    "        with torch.no_grad():\n",
    "            dummy_input = torch.zeros(1, *input_dim)\n",
    "            out = self.layer1(dummy_input)\n",
    "            out = self.layer2(out)\n",
    "            out = self.layer3(out)\n",
    "            flatten_dim = out.view(1, -1).shape[1]\n",
    "\n",
    "        self.fc = nn.Linear(flatten_dim, 1)\n",
    "\n",
    "    def forward(self, x):\n",
    "        out = self.layer1(x)\n",
    "        out = self.layer2(out)\n",
    "        out = self.layer3(out)\n",
    "        features = out.clone()\n",
    "        out = out.reshape(out.size(0), -1) # Flatten everything except the batch\n",
    "        out = self.fc(out)\n",
    "        return out, features "
   ]
  },
  {
   "cell_type": "code",
   "execution_count": 6,
   "id": "afdd604f",
   "metadata": {
    "execution": {
     "iopub.execute_input": "2025-05-05T18:34:22.186567Z",
     "iopub.status.busy": "2025-05-05T18:34:22.186169Z",
     "iopub.status.idle": "2025-05-05T18:34:22.314980Z",
     "shell.execute_reply": "2025-05-05T18:34:22.314339Z"
    },
    "papermill": {
     "duration": 0.13415,
     "end_time": "2025-05-05T18:34:22.316108",
     "exception": false,
     "start_time": "2025-05-05T18:34:22.181958",
     "status": "completed"
    },
    "tags": []
   },
   "outputs": [
    {
     "name": "stdout",
     "output_type": "stream",
     "text": [
      "cuda\n",
      "Input shape: torch.Size([3, 199, 515])\n"
     ]
    }
   ],
   "source": [
    "# Run on GPU if available\n",
    "device = torch.device('cuda' if torch.cuda.is_available() else 'cpu')\n",
    "print(device)\n",
    "\n",
    "# Get one image to determine input dimensions\n",
    "sample_img, _ = train_dataset[0]  # First image and label\n",
    "input_dim = sample_img.shape  # (C, H, W)\n",
    "print(\"Input shape:\", input_dim)"
   ]
  },
  {
   "cell_type": "code",
   "execution_count": 7,
   "id": "8ad89530",
   "metadata": {
    "execution": {
     "iopub.execute_input": "2025-05-05T18:34:22.325246Z",
     "iopub.status.busy": "2025-05-05T18:34:22.324742Z",
     "iopub.status.idle": "2025-05-05T18:34:22.649805Z",
     "shell.execute_reply": "2025-05-05T18:34:22.649041Z"
    },
    "papermill": {
     "duration": 0.330865,
     "end_time": "2025-05-05T18:34:22.651113",
     "exception": false,
     "start_time": "2025-05-05T18:34:22.320248",
     "status": "completed"
    },
    "tags": []
   },
   "outputs": [
    {
     "data": {
      "text/plain": [
       "ConvNet(\n",
       "  (layer1): Sequential(\n",
       "    (0): Conv2d(3, 16, kernel_size=(2, 2), stride=(1, 1), padding=(1, 1))\n",
       "    (1): BatchNorm2d(16, eps=1e-05, momentum=0.1, affine=True, track_running_stats=True)\n",
       "    (2): ReLU()\n",
       "    (3): AvgPool2d(kernel_size=2, stride=2, padding=0)\n",
       "    (4): Dropout(p=0.3, inplace=False)\n",
       "  )\n",
       "  (layer2): Sequential(\n",
       "    (0): Conv2d(16, 32, kernel_size=(2, 2), stride=(1, 1), padding=(1, 1))\n",
       "    (1): BatchNorm2d(32, eps=1e-05, momentum=0.1, affine=True, track_running_stats=True)\n",
       "    (2): ReLU()\n",
       "    (3): AvgPool2d(kernel_size=2, stride=2, padding=0)\n",
       "    (4): Dropout(p=0.3, inplace=False)\n",
       "  )\n",
       "  (layer3): Sequential(\n",
       "    (0): Conv2d(32, 64, kernel_size=(2, 2), stride=(1, 1), padding=(1, 1))\n",
       "    (1): BatchNorm2d(64, eps=1e-05, momentum=0.1, affine=True, track_running_stats=True)\n",
       "    (2): ReLU()\n",
       "    (3): AvgPool2d(kernel_size=2, stride=2, padding=0)\n",
       "    (4): Dropout(p=0.3, inplace=False)\n",
       "  )\n",
       "  (fc): Linear(in_features=104000, out_features=1, bias=True)\n",
       ")"
      ]
     },
     "execution_count": 7,
     "metadata": {},
     "output_type": "execute_result"
    }
   ],
   "source": [
    "# Initialize model\n",
    "cnn = ConvNet(input_dim=input_dim)\n",
    "\n",
    "if torch.cuda.device_count() > 1:\n",
    "    print(\"Using\", torch.cuda.device_count(), \"GPUs\")\n",
    "    cnn = nn.DataParallel(cnn)\n",
    "cnn.to(device)"
   ]
  },
  {
   "cell_type": "code",
   "execution_count": 8,
   "id": "9f867507",
   "metadata": {
    "execution": {
     "iopub.execute_input": "2025-05-05T18:34:22.660551Z",
     "iopub.status.busy": "2025-05-05T18:34:22.660336Z",
     "iopub.status.idle": "2025-05-05T18:34:26.850186Z",
     "shell.execute_reply": "2025-05-05T18:34:26.849389Z"
    },
    "papermill": {
     "duration": 4.19609,
     "end_time": "2025-05-05T18:34:26.851728",
     "exception": false,
     "start_time": "2025-05-05T18:34:22.655638",
     "status": "completed"
    },
    "tags": []
   },
   "outputs": [],
   "source": [
    "# Hyperparameters\n",
    "learning_rate_cnn = 0.001\n",
    "EPOCHS = 10\n",
    "\n",
    "# Loss, optimizer\n",
    "criterion_cnn = nn.BCEWithLogitsLoss()\n",
    "optimizer_cnn = torch.optim.Adam(cnn.parameters(), lr=learning_rate_cnn)"
   ]
  },
  {
   "cell_type": "code",
   "execution_count": 9,
   "id": "58263dde",
   "metadata": {
    "execution": {
     "iopub.execute_input": "2025-05-05T18:34:26.861283Z",
     "iopub.status.busy": "2025-05-05T18:34:26.860865Z",
     "iopub.status.idle": "2025-05-05T21:23:34.649940Z",
     "shell.execute_reply": "2025-05-05T21:23:34.648977Z"
    },
    "papermill": {
     "duration": 10147.810096,
     "end_time": "2025-05-05T21:23:34.666160",
     "exception": false,
     "start_time": "2025-05-05T18:34:26.856064",
     "status": "completed"
    },
    "tags": []
   },
   "outputs": [
    {
     "name": "stderr",
     "output_type": "stream",
     "text": [
      "  0%|          | 1/200 [02:23<7:55:40, 143.42s/it]"
     ]
    },
    {
     "name": "stdout",
     "output_type": "stream",
     "text": [
      "Best model saved at epoch 1 with AUC = 0.6935\n",
      "Epoch 001: | Loss: 1.25700 | Acc: 0.561 | Validation Accuracy: 0.524\n"
     ]
    },
    {
     "name": "stderr",
     "output_type": "stream",
     "text": [
      "  1%|          | 2/200 [03:46<5:55:28, 107.72s/it]"
     ]
    },
    {
     "name": "stdout",
     "output_type": "stream",
     "text": [
      "Best model saved at epoch 2 with AUC = 0.7368\n",
      "Epoch 002: | Loss: 0.66656 | Acc: 0.621 | Validation Accuracy: 0.656\n"
     ]
    },
    {
     "name": "stderr",
     "output_type": "stream",
     "text": [
      "  2%|▏         | 3/200 [05:07<5:14:42, 95.85s/it] "
     ]
    },
    {
     "name": "stdout",
     "output_type": "stream",
     "text": [
      "Best model saved at epoch 3 with AUC = 0.7498\n",
      "Epoch 003: | Loss: 0.62940 | Acc: 0.648 | Validation Accuracy: 0.681\n"
     ]
    },
    {
     "name": "stderr",
     "output_type": "stream",
     "text": [
      "  2%|▏         | 4/200 [06:28<4:53:12, 89.76s/it]"
     ]
    },
    {
     "name": "stdout",
     "output_type": "stream",
     "text": [
      "Epoch 004: | Loss: 0.58188 | Acc: 0.686 | Validation Accuracy: 0.532\n"
     ]
    },
    {
     "name": "stderr",
     "output_type": "stream",
     "text": [
      "  2%|▎         | 5/200 [07:51<4:43:37, 87.27s/it]"
     ]
    },
    {
     "name": "stdout",
     "output_type": "stream",
     "text": [
      "Best model saved at epoch 5 with AUC = 0.7657\n",
      "Epoch 005: | Loss: 0.57814 | Acc: 0.693 | Validation Accuracy: 0.719\n"
     ]
    },
    {
     "name": "stderr",
     "output_type": "stream",
     "text": [
      "  3%|▎         | 6/200 [09:08<4:30:58, 83.81s/it]"
     ]
    },
    {
     "name": "stdout",
     "output_type": "stream",
     "text": [
      "Best model saved at epoch 6 with AUC = 0.7705\n",
      "Epoch 006: | Loss: 0.55530 | Acc: 0.704 | Validation Accuracy: 0.726\n"
     ]
    },
    {
     "name": "stderr",
     "output_type": "stream",
     "text": [
      "  4%|▎         | 7/200 [10:29<4:27:21, 83.11s/it]"
     ]
    },
    {
     "name": "stdout",
     "output_type": "stream",
     "text": [
      "Best model saved at epoch 7 with AUC = 0.7766\n",
      "Epoch 007: | Loss: 0.54834 | Acc: 0.710 | Validation Accuracy: 0.700\n"
     ]
    },
    {
     "name": "stderr",
     "output_type": "stream",
     "text": [
      "  4%|▍         | 8/200 [11:50<4:23:34, 82.37s/it]"
     ]
    },
    {
     "name": "stdout",
     "output_type": "stream",
     "text": [
      "Best model saved at epoch 8 with AUC = 0.7919\n",
      "Epoch 008: | Loss: 0.53582 | Acc: 0.716 | Validation Accuracy: 0.730\n"
     ]
    },
    {
     "name": "stderr",
     "output_type": "stream",
     "text": [
      "  4%|▍         | 9/200 [13:11<4:20:49, 81.93s/it]"
     ]
    },
    {
     "name": "stdout",
     "output_type": "stream",
     "text": [
      "Best model saved at epoch 9 with AUC = 0.7938\n",
      "Epoch 009: | Loss: 0.52400 | Acc: 0.729 | Validation Accuracy: 0.728\n"
     ]
    },
    {
     "name": "stderr",
     "output_type": "stream",
     "text": [
      "  5%|▌         | 10/200 [14:32<4:18:50, 81.74s/it]"
     ]
    },
    {
     "name": "stdout",
     "output_type": "stream",
     "text": [
      "Best model saved at epoch 10 with AUC = 0.7949\n",
      "Epoch 010: | Loss: 0.52199 | Acc: 0.728 | Validation Accuracy: 0.697\n"
     ]
    },
    {
     "name": "stderr",
     "output_type": "stream",
     "text": [
      "  6%|▌         | 11/200 [15:50<4:13:28, 80.47s/it]"
     ]
    },
    {
     "name": "stdout",
     "output_type": "stream",
     "text": [
      "Best model saved at epoch 11 with AUC = 0.8067\n",
      "Epoch 011: | Loss: 0.50277 | Acc: 0.739 | Validation Accuracy: 0.625\n"
     ]
    },
    {
     "name": "stderr",
     "output_type": "stream",
     "text": [
      "  6%|▌         | 12/200 [17:11<4:12:06, 80.46s/it]"
     ]
    },
    {
     "name": "stdout",
     "output_type": "stream",
     "text": [
      "Best model saved at epoch 12 with AUC = 0.8133\n",
      "Epoch 012: | Loss: 0.48711 | Acc: 0.749 | Validation Accuracy: 0.709\n"
     ]
    },
    {
     "name": "stderr",
     "output_type": "stream",
     "text": [
      "  6%|▋         | 13/200 [18:35<4:14:27, 81.65s/it]"
     ]
    },
    {
     "name": "stdout",
     "output_type": "stream",
     "text": [
      "Best model saved at epoch 13 with AUC = 0.8194\n",
      "Epoch 013: | Loss: 0.49269 | Acc: 0.748 | Validation Accuracy: 0.747\n"
     ]
    },
    {
     "name": "stderr",
     "output_type": "stream",
     "text": [
      "  7%|▋         | 14/200 [19:55<4:11:29, 81.12s/it]"
     ]
    },
    {
     "name": "stdout",
     "output_type": "stream",
     "text": [
      "Best model saved at epoch 14 with AUC = 0.8225\n",
      "Epoch 014: | Loss: 0.47642 | Acc: 0.759 | Validation Accuracy: 0.633\n"
     ]
    },
    {
     "name": "stderr",
     "output_type": "stream",
     "text": [
      "  8%|▊         | 15/200 [21:15<4:09:21, 80.87s/it]"
     ]
    },
    {
     "name": "stdout",
     "output_type": "stream",
     "text": [
      "Epoch 015: | Loss: 0.47028 | Acc: 0.763 | Validation Accuracy: 0.733\n"
     ]
    },
    {
     "name": "stderr",
     "output_type": "stream",
     "text": [
      "  8%|▊         | 16/200 [22:36<4:07:46, 80.80s/it]"
     ]
    },
    {
     "name": "stdout",
     "output_type": "stream",
     "text": [
      "Best model saved at epoch 16 with AUC = 0.8289\n",
      "Epoch 016: | Loss: 0.46452 | Acc: 0.766 | Validation Accuracy: 0.743\n"
     ]
    },
    {
     "name": "stderr",
     "output_type": "stream",
     "text": [
      "  8%|▊         | 17/200 [23:56<4:05:36, 80.53s/it]"
     ]
    },
    {
     "name": "stdout",
     "output_type": "stream",
     "text": [
      "Epoch 017: | Loss: 0.45304 | Acc: 0.776 | Validation Accuracy: 0.762\n"
     ]
    },
    {
     "name": "stderr",
     "output_type": "stream",
     "text": [
      "  9%|▉         | 18/200 [25:17<4:04:41, 80.67s/it]"
     ]
    },
    {
     "name": "stdout",
     "output_type": "stream",
     "text": [
      "Best model saved at epoch 18 with AUC = 0.8344\n",
      "Epoch 018: | Loss: 0.44920 | Acc: 0.780 | Validation Accuracy: 0.746\n"
     ]
    },
    {
     "name": "stderr",
     "output_type": "stream",
     "text": [
      " 10%|▉         | 19/200 [26:38<4:03:48, 80.82s/it]"
     ]
    },
    {
     "name": "stdout",
     "output_type": "stream",
     "text": [
      "Epoch 019: | Loss: 0.45850 | Acc: 0.772 | Validation Accuracy: 0.755\n"
     ]
    },
    {
     "name": "stderr",
     "output_type": "stream",
     "text": [
      " 10%|█         | 20/200 [28:02<4:05:25, 81.81s/it]"
     ]
    },
    {
     "name": "stdout",
     "output_type": "stream",
     "text": [
      "Best model saved at epoch 20 with AUC = 0.8403\n",
      "Epoch 020: | Loss: 0.43443 | Acc: 0.787 | Validation Accuracy: 0.712\n"
     ]
    },
    {
     "name": "stderr",
     "output_type": "stream",
     "text": [
      " 10%|█         | 21/200 [29:25<4:05:06, 82.16s/it]"
     ]
    },
    {
     "name": "stdout",
     "output_type": "stream",
     "text": [
      "Best model saved at epoch 21 with AUC = 0.8464\n",
      "Epoch 021: | Loss: 0.43218 | Acc: 0.787 | Validation Accuracy: 0.765\n"
     ]
    },
    {
     "name": "stderr",
     "output_type": "stream",
     "text": [
      " 11%|█         | 22/200 [30:54<4:10:02, 84.29s/it]"
     ]
    },
    {
     "name": "stdout",
     "output_type": "stream",
     "text": [
      "Best model saved at epoch 22 with AUC = 0.8534\n",
      "Epoch 022: | Loss: 0.41957 | Acc: 0.796 | Validation Accuracy: 0.758\n"
     ]
    },
    {
     "name": "stderr",
     "output_type": "stream",
     "text": [
      " 12%|█▏        | 23/200 [32:25<4:14:24, 86.24s/it]"
     ]
    },
    {
     "name": "stdout",
     "output_type": "stream",
     "text": [
      "Epoch 023: | Loss: 0.41528 | Acc: 0.799 | Validation Accuracy: 0.699\n"
     ]
    },
    {
     "name": "stderr",
     "output_type": "stream",
     "text": [
      " 12%|█▏        | 24/200 [33:50<4:11:37, 85.78s/it]"
     ]
    },
    {
     "name": "stdout",
     "output_type": "stream",
     "text": [
      "Best model saved at epoch 24 with AUC = 0.8624\n",
      "Epoch 024: | Loss: 0.41624 | Acc: 0.800 | Validation Accuracy: 0.759\n"
     ]
    },
    {
     "name": "stderr",
     "output_type": "stream",
     "text": [
      " 12%|█▎        | 25/200 [35:14<4:09:20, 85.49s/it]"
     ]
    },
    {
     "name": "stdout",
     "output_type": "stream",
     "text": [
      "Best model saved at epoch 25 with AUC = 0.8630\n",
      "Epoch 025: | Loss: 0.39860 | Acc: 0.809 | Validation Accuracy: 0.759\n"
     ]
    },
    {
     "name": "stderr",
     "output_type": "stream",
     "text": [
      " 13%|█▎        | 26/200 [36:39<4:07:08, 85.22s/it]"
     ]
    },
    {
     "name": "stdout",
     "output_type": "stream",
     "text": [
      "Epoch 026: | Loss: 0.39119 | Acc: 0.812 | Validation Accuracy: 0.685\n"
     ]
    },
    {
     "name": "stderr",
     "output_type": "stream",
     "text": [
      " 14%|█▎        | 27/200 [38:03<4:04:34, 84.82s/it]"
     ]
    },
    {
     "name": "stdout",
     "output_type": "stream",
     "text": [
      "Best model saved at epoch 27 with AUC = 0.8666\n",
      "Epoch 027: | Loss: 0.38241 | Acc: 0.820 | Validation Accuracy: 0.772\n"
     ]
    },
    {
     "name": "stderr",
     "output_type": "stream",
     "text": [
      " 14%|█▍        | 28/200 [39:27<4:02:16, 84.52s/it]"
     ]
    },
    {
     "name": "stdout",
     "output_type": "stream",
     "text": [
      "Best model saved at epoch 28 with AUC = 0.8739\n",
      "Epoch 028: | Loss: 0.37831 | Acc: 0.822 | Validation Accuracy: 0.773\n"
     ]
    },
    {
     "name": "stderr",
     "output_type": "stream",
     "text": [
      " 14%|█▍        | 29/200 [40:52<4:01:27, 84.72s/it]"
     ]
    },
    {
     "name": "stdout",
     "output_type": "stream",
     "text": [
      "Epoch 029: | Loss: 0.37699 | Acc: 0.824 | Validation Accuracy: 0.785\n"
     ]
    },
    {
     "name": "stderr",
     "output_type": "stream",
     "text": [
      " 15%|█▌        | 30/200 [42:14<3:57:38, 83.87s/it]"
     ]
    },
    {
     "name": "stdout",
     "output_type": "stream",
     "text": [
      "Best model saved at epoch 30 with AUC = 0.8780\n",
      "Epoch 030: | Loss: 0.36421 | Acc: 0.830 | Validation Accuracy: 0.774\n"
     ]
    },
    {
     "name": "stderr",
     "output_type": "stream",
     "text": [
      " 16%|█▌        | 31/200 [43:36<3:54:40, 83.32s/it]"
     ]
    },
    {
     "name": "stdout",
     "output_type": "stream",
     "text": [
      "Best model saved at epoch 31 with AUC = 0.8869\n",
      "Epoch 031: | Loss: 0.35923 | Acc: 0.834 | Validation Accuracy: 0.780\n"
     ]
    },
    {
     "name": "stderr",
     "output_type": "stream",
     "text": [
      " 16%|█▌        | 32/200 [44:56<3:50:17, 82.25s/it]"
     ]
    },
    {
     "name": "stdout",
     "output_type": "stream",
     "text": [
      "Best model saved at epoch 32 with AUC = 0.8974\n",
      "Epoch 032: | Loss: 0.34854 | Acc: 0.837 | Validation Accuracy: 0.809\n"
     ]
    },
    {
     "name": "stderr",
     "output_type": "stream",
     "text": [
      " 16%|█▋        | 33/200 [46:15<3:46:22, 81.33s/it]"
     ]
    },
    {
     "name": "stdout",
     "output_type": "stream",
     "text": [
      "Epoch 033: | Loss: 0.33595 | Acc: 0.847 | Validation Accuracy: 0.800\n"
     ]
    },
    {
     "name": "stderr",
     "output_type": "stream",
     "text": [
      " 17%|█▋        | 34/200 [47:36<3:45:04, 81.35s/it]"
     ]
    },
    {
     "name": "stdout",
     "output_type": "stream",
     "text": [
      "Best model saved at epoch 34 with AUC = 0.8987\n",
      "Epoch 034: | Loss: 0.32848 | Acc: 0.851 | Validation Accuracy: 0.799\n"
     ]
    },
    {
     "name": "stderr",
     "output_type": "stream",
     "text": [
      " 18%|█▊        | 35/200 [48:58<3:43:48, 81.39s/it]"
     ]
    },
    {
     "name": "stdout",
     "output_type": "stream",
     "text": [
      "Best model saved at epoch 35 with AUC = 0.9039\n",
      "Epoch 035: | Loss: 0.32540 | Acc: 0.852 | Validation Accuracy: 0.781\n"
     ]
    },
    {
     "name": "stderr",
     "output_type": "stream",
     "text": [
      " 18%|█▊        | 36/200 [50:15<3:39:13, 80.20s/it]"
     ]
    },
    {
     "name": "stdout",
     "output_type": "stream",
     "text": [
      "Best model saved at epoch 36 with AUC = 0.9069\n",
      "Epoch 036: | Loss: 0.33028 | Acc: 0.849 | Validation Accuracy: 0.810\n"
     ]
    },
    {
     "name": "stderr",
     "output_type": "stream",
     "text": [
      " 18%|█▊        | 37/200 [51:35<3:37:24, 80.03s/it]"
     ]
    },
    {
     "name": "stdout",
     "output_type": "stream",
     "text": [
      "Best model saved at epoch 37 with AUC = 0.9127\n",
      "Epoch 037: | Loss: 0.31364 | Acc: 0.857 | Validation Accuracy: 0.812\n"
     ]
    },
    {
     "name": "stderr",
     "output_type": "stream",
     "text": [
      " 19%|█▉        | 38/200 [52:58<3:39:06, 81.15s/it]"
     ]
    },
    {
     "name": "stdout",
     "output_type": "stream",
     "text": [
      "Best model saved at epoch 38 with AUC = 0.9158\n",
      "Epoch 038: | Loss: 0.30555 | Acc: 0.862 | Validation Accuracy: 0.822\n"
     ]
    },
    {
     "name": "stderr",
     "output_type": "stream",
     "text": [
      " 20%|█▉        | 39/200 [54:17<3:35:54, 80.46s/it]"
     ]
    },
    {
     "name": "stdout",
     "output_type": "stream",
     "text": [
      "Best model saved at epoch 39 with AUC = 0.9183\n",
      "Epoch 039: | Loss: 0.29733 | Acc: 0.865 | Validation Accuracy: 0.824\n"
     ]
    },
    {
     "name": "stderr",
     "output_type": "stream",
     "text": [
      " 20%|██        | 40/200 [55:39<3:35:14, 80.72s/it]"
     ]
    },
    {
     "name": "stdout",
     "output_type": "stream",
     "text": [
      "Best model saved at epoch 40 with AUC = 0.9239\n",
      "Epoch 040: | Loss: 0.29742 | Acc: 0.868 | Validation Accuracy: 0.815\n"
     ]
    },
    {
     "name": "stderr",
     "output_type": "stream",
     "text": [
      " 20%|██        | 41/200 [57:06<3:39:14, 82.73s/it]"
     ]
    },
    {
     "name": "stdout",
     "output_type": "stream",
     "text": [
      "Best model saved at epoch 41 with AUC = 0.9242\n",
      "Epoch 041: | Loss: 0.28616 | Acc: 0.872 | Validation Accuracy: 0.821\n"
     ]
    },
    {
     "name": "stderr",
     "output_type": "stream",
     "text": [
      " 21%|██        | 42/200 [58:31<3:39:12, 83.24s/it]"
     ]
    },
    {
     "name": "stdout",
     "output_type": "stream",
     "text": [
      "Best model saved at epoch 42 with AUC = 0.9276\n",
      "Epoch 042: | Loss: 0.27211 | Acc: 0.882 | Validation Accuracy: 0.834\n"
     ]
    },
    {
     "name": "stderr",
     "output_type": "stream",
     "text": [
      " 22%|██▏       | 43/200 [59:56<3:39:29, 83.88s/it]"
     ]
    },
    {
     "name": "stdout",
     "output_type": "stream",
     "text": [
      "Best model saved at epoch 43 with AUC = 0.9296\n",
      "Epoch 043: | Loss: 0.26980 | Acc: 0.880 | Validation Accuracy: 0.847\n"
     ]
    },
    {
     "name": "stderr",
     "output_type": "stream",
     "text": [
      " 22%|██▏       | 44/200 [1:01:16<3:35:22, 82.84s/it]"
     ]
    },
    {
     "name": "stdout",
     "output_type": "stream",
     "text": [
      "Best model saved at epoch 44 with AUC = 0.9331\n",
      "Epoch 044: | Loss: 0.27056 | Acc: 0.881 | Validation Accuracy: 0.845\n"
     ]
    },
    {
     "name": "stderr",
     "output_type": "stream",
     "text": [
      " 22%|██▎       | 45/200 [1:02:38<3:32:54, 82.42s/it]"
     ]
    },
    {
     "name": "stdout",
     "output_type": "stream",
     "text": [
      "Epoch 045: | Loss: 0.26107 | Acc: 0.886 | Validation Accuracy: 0.846\n"
     ]
    },
    {
     "name": "stderr",
     "output_type": "stream",
     "text": [
      " 23%|██▎       | 46/200 [1:04:02<3:32:47, 82.90s/it]"
     ]
    },
    {
     "name": "stdout",
     "output_type": "stream",
     "text": [
      "Best model saved at epoch 46 with AUC = 0.9350\n",
      "Epoch 046: | Loss: 0.25788 | Acc: 0.889 | Validation Accuracy: 0.843\n"
     ]
    },
    {
     "name": "stderr",
     "output_type": "stream",
     "text": [
      " 24%|██▎       | 47/200 [1:05:25<3:31:20, 82.88s/it]"
     ]
    },
    {
     "name": "stdout",
     "output_type": "stream",
     "text": [
      "Epoch 047: | Loss: 0.25772 | Acc: 0.888 | Validation Accuracy: 0.853\n"
     ]
    },
    {
     "name": "stderr",
     "output_type": "stream",
     "text": [
      " 24%|██▍       | 48/200 [1:06:46<3:29:12, 82.58s/it]"
     ]
    },
    {
     "name": "stdout",
     "output_type": "stream",
     "text": [
      "Best model saved at epoch 48 with AUC = 0.9423\n",
      "Epoch 048: | Loss: 0.24719 | Acc: 0.895 | Validation Accuracy: 0.861\n"
     ]
    },
    {
     "name": "stderr",
     "output_type": "stream",
     "text": [
      " 24%|██▍       | 49/200 [1:08:08<3:26:48, 82.17s/it]"
     ]
    },
    {
     "name": "stdout",
     "output_type": "stream",
     "text": [
      "Best model saved at epoch 49 with AUC = 0.9428\n",
      "Epoch 049: | Loss: 0.24549 | Acc: 0.895 | Validation Accuracy: 0.861\n"
     ]
    },
    {
     "name": "stderr",
     "output_type": "stream",
     "text": [
      " 25%|██▌       | 50/200 [1:09:30<3:25:45, 82.30s/it]"
     ]
    },
    {
     "name": "stdout",
     "output_type": "stream",
     "text": [
      "Best model saved at epoch 50 with AUC = 0.9432\n",
      "Epoch 050: | Loss: 0.24071 | Acc: 0.897 | Validation Accuracy: 0.867\n"
     ]
    },
    {
     "name": "stderr",
     "output_type": "stream",
     "text": [
      " 26%|██▌       | 51/200 [1:10:51<3:23:26, 81.92s/it]"
     ]
    },
    {
     "name": "stdout",
     "output_type": "stream",
     "text": [
      "Best model saved at epoch 51 with AUC = 0.9457\n",
      "Epoch 051: | Loss: 0.23862 | Acc: 0.898 | Validation Accuracy: 0.872\n"
     ]
    },
    {
     "name": "stderr",
     "output_type": "stream",
     "text": [
      " 26%|██▌       | 52/200 [1:12:10<3:19:21, 80.82s/it]"
     ]
    },
    {
     "name": "stdout",
     "output_type": "stream",
     "text": [
      "Epoch 052: | Loss: 0.23010 | Acc: 0.901 | Validation Accuracy: 0.866\n"
     ]
    },
    {
     "name": "stderr",
     "output_type": "stream",
     "text": [
      " 26%|██▋       | 53/200 [1:13:31<3:18:37, 81.07s/it]"
     ]
    },
    {
     "name": "stdout",
     "output_type": "stream",
     "text": [
      "Best model saved at epoch 53 with AUC = 0.9487\n",
      "Epoch 053: | Loss: 0.22675 | Acc: 0.903 | Validation Accuracy: 0.873\n"
     ]
    },
    {
     "name": "stderr",
     "output_type": "stream",
     "text": [
      " 27%|██▋       | 54/200 [1:14:52<3:16:47, 80.87s/it]"
     ]
    },
    {
     "name": "stdout",
     "output_type": "stream",
     "text": [
      "Epoch 054: | Loss: 0.21646 | Acc: 0.907 | Validation Accuracy: 0.876\n"
     ]
    },
    {
     "name": "stderr",
     "output_type": "stream",
     "text": [
      " 28%|██▊       | 55/200 [1:16:09<3:13:00, 79.87s/it]"
     ]
    },
    {
     "name": "stdout",
     "output_type": "stream",
     "text": [
      "Best model saved at epoch 55 with AUC = 0.9517\n",
      "Epoch 055: | Loss: 0.22085 | Acc: 0.905 | Validation Accuracy: 0.882\n"
     ]
    },
    {
     "name": "stderr",
     "output_type": "stream",
     "text": [
      " 28%|██▊       | 56/200 [1:17:28<3:11:08, 79.64s/it]"
     ]
    },
    {
     "name": "stdout",
     "output_type": "stream",
     "text": [
      "Epoch 056: | Loss: 0.21505 | Acc: 0.909 | Validation Accuracy: 0.855\n"
     ]
    },
    {
     "name": "stderr",
     "output_type": "stream",
     "text": [
      " 28%|██▊       | 57/200 [1:18:46<3:08:40, 79.17s/it]"
     ]
    },
    {
     "name": "stdout",
     "output_type": "stream",
     "text": [
      "Best model saved at epoch 57 with AUC = 0.9533\n",
      "Epoch 057: | Loss: 0.21182 | Acc: 0.912 | Validation Accuracy: 0.885\n"
     ]
    },
    {
     "name": "stderr",
     "output_type": "stream",
     "text": [
      " 29%|██▉       | 58/200 [1:20:04<3:06:10, 78.67s/it]"
     ]
    },
    {
     "name": "stdout",
     "output_type": "stream",
     "text": [
      "Best model saved at epoch 58 with AUC = 0.9560\n",
      "Epoch 058: | Loss: 0.20719 | Acc: 0.913 | Validation Accuracy: 0.891\n"
     ]
    },
    {
     "name": "stderr",
     "output_type": "stream",
     "text": [
      " 30%|██▉       | 59/200 [1:21:21<3:04:03, 78.32s/it]"
     ]
    },
    {
     "name": "stdout",
     "output_type": "stream",
     "text": [
      "Epoch 059: | Loss: 0.21419 | Acc: 0.908 | Validation Accuracy: 0.882\n"
     ]
    },
    {
     "name": "stderr",
     "output_type": "stream",
     "text": [
      " 30%|███       | 60/200 [1:22:43<3:05:16, 79.41s/it]"
     ]
    },
    {
     "name": "stdout",
     "output_type": "stream",
     "text": [
      "Best model saved at epoch 60 with AUC = 0.9568\n",
      "Epoch 060: | Loss: 0.20112 | Acc: 0.915 | Validation Accuracy: 0.887\n"
     ]
    },
    {
     "name": "stderr",
     "output_type": "stream",
     "text": [
      " 30%|███       | 61/200 [1:24:00<3:02:05, 78.60s/it]"
     ]
    },
    {
     "name": "stdout",
     "output_type": "stream",
     "text": [
      "Best model saved at epoch 61 with AUC = 0.9585\n",
      "Epoch 061: | Loss: 0.19822 | Acc: 0.918 | Validation Accuracy: 0.886\n"
     ]
    },
    {
     "name": "stderr",
     "output_type": "stream",
     "text": [
      " 31%|███       | 62/200 [1:25:17<2:59:42, 78.14s/it]"
     ]
    },
    {
     "name": "stdout",
     "output_type": "stream",
     "text": [
      "Best model saved at epoch 62 with AUC = 0.9598\n",
      "Epoch 062: | Loss: 0.19567 | Acc: 0.921 | Validation Accuracy: 0.890\n"
     ]
    },
    {
     "name": "stderr",
     "output_type": "stream",
     "text": [
      " 32%|███▏      | 63/200 [1:26:34<2:57:25, 77.70s/it]"
     ]
    },
    {
     "name": "stdout",
     "output_type": "stream",
     "text": [
      "Epoch 063: | Loss: 0.19559 | Acc: 0.918 | Validation Accuracy: 0.888\n"
     ]
    },
    {
     "name": "stderr",
     "output_type": "stream",
     "text": [
      " 32%|███▏      | 64/200 [1:27:52<2:56:18, 77.78s/it]"
     ]
    },
    {
     "name": "stdout",
     "output_type": "stream",
     "text": [
      "Epoch 064: | Loss: 0.19422 | Acc: 0.919 | Validation Accuracy: 0.881\n"
     ]
    },
    {
     "name": "stderr",
     "output_type": "stream",
     "text": [
      " 32%|███▎      | 65/200 [1:29:13<2:57:17, 78.80s/it]"
     ]
    },
    {
     "name": "stdout",
     "output_type": "stream",
     "text": [
      "Epoch 065: | Loss: 0.18624 | Acc: 0.923 | Validation Accuracy: 0.884\n"
     ]
    },
    {
     "name": "stderr",
     "output_type": "stream",
     "text": [
      " 33%|███▎      | 66/200 [1:30:32<2:56:00, 78.81s/it]"
     ]
    },
    {
     "name": "stdout",
     "output_type": "stream",
     "text": [
      "Best model saved at epoch 66 with AUC = 0.9601\n",
      "Epoch 066: | Loss: 0.19185 | Acc: 0.919 | Validation Accuracy: 0.891\n"
     ]
    },
    {
     "name": "stderr",
     "output_type": "stream",
     "text": [
      " 34%|███▎      | 67/200 [1:31:52<2:55:51, 79.33s/it]"
     ]
    },
    {
     "name": "stdout",
     "output_type": "stream",
     "text": [
      "Best model saved at epoch 67 with AUC = 0.9604\n",
      "Epoch 067: | Loss: 0.18454 | Acc: 0.924 | Validation Accuracy: 0.900\n"
     ]
    },
    {
     "name": "stderr",
     "output_type": "stream",
     "text": [
      " 34%|███▍      | 68/200 [1:33:17<2:57:45, 80.80s/it]"
     ]
    },
    {
     "name": "stdout",
     "output_type": "stream",
     "text": [
      "Best model saved at epoch 68 with AUC = 0.9624\n",
      "Epoch 068: | Loss: 0.18268 | Acc: 0.925 | Validation Accuracy: 0.894\n"
     ]
    },
    {
     "name": "stderr",
     "output_type": "stream",
     "text": [
      " 34%|███▍      | 69/200 [1:34:45<3:01:35, 83.17s/it]"
     ]
    },
    {
     "name": "stdout",
     "output_type": "stream",
     "text": [
      "Epoch 069: | Loss: 0.17886 | Acc: 0.927 | Validation Accuracy: 0.894\n"
     ]
    },
    {
     "name": "stderr",
     "output_type": "stream",
     "text": [
      " 35%|███▌      | 70/200 [1:36:11<3:01:44, 83.88s/it]"
     ]
    },
    {
     "name": "stdout",
     "output_type": "stream",
     "text": [
      "Best model saved at epoch 70 with AUC = 0.9653\n",
      "Epoch 070: | Loss: 0.17948 | Acc: 0.926 | Validation Accuracy: 0.885\n"
     ]
    },
    {
     "name": "stderr",
     "output_type": "stream",
     "text": [
      " 36%|███▌      | 71/200 [1:37:33<2:59:09, 83.33s/it]"
     ]
    },
    {
     "name": "stdout",
     "output_type": "stream",
     "text": [
      "Epoch 071: | Loss: 0.17515 | Acc: 0.928 | Validation Accuracy: 0.907\n"
     ]
    },
    {
     "name": "stderr",
     "output_type": "stream",
     "text": [
      " 36%|███▌      | 72/200 [1:38:54<2:56:20, 82.66s/it]"
     ]
    },
    {
     "name": "stdout",
     "output_type": "stream",
     "text": [
      "Epoch 072: | Loss: 0.17715 | Acc: 0.928 | Validation Accuracy: 0.901\n"
     ]
    },
    {
     "name": "stderr",
     "output_type": "stream",
     "text": [
      " 36%|███▋      | 73/200 [1:40:16<2:54:41, 82.53s/it]"
     ]
    },
    {
     "name": "stdout",
     "output_type": "stream",
     "text": [
      "Epoch 073: | Loss: 0.17154 | Acc: 0.930 | Validation Accuracy: 0.899\n"
     ]
    },
    {
     "name": "stderr",
     "output_type": "stream",
     "text": [
      " 37%|███▋      | 74/200 [1:41:34<2:50:28, 81.18s/it]"
     ]
    },
    {
     "name": "stdout",
     "output_type": "stream",
     "text": [
      "Best model saved at epoch 74 with AUC = 0.9657\n",
      "Epoch 074: | Loss: 0.17260 | Acc: 0.930 | Validation Accuracy: 0.900\n"
     ]
    },
    {
     "name": "stderr",
     "output_type": "stream",
     "text": [
      " 38%|███▊      | 75/200 [1:42:52<2:47:21, 80.33s/it]"
     ]
    },
    {
     "name": "stdout",
     "output_type": "stream",
     "text": [
      "Epoch 075: | Loss: 0.16826 | Acc: 0.932 | Validation Accuracy: 0.905\n"
     ]
    },
    {
     "name": "stderr",
     "output_type": "stream",
     "text": [
      " 38%|███▊      | 76/200 [1:44:18<2:49:13, 81.88s/it]"
     ]
    },
    {
     "name": "stdout",
     "output_type": "stream",
     "text": [
      "Epoch 076: | Loss: 0.16044 | Acc: 0.935 | Validation Accuracy: 0.908\n"
     ]
    },
    {
     "name": "stderr",
     "output_type": "stream",
     "text": [
      " 38%|███▊      | 77/200 [1:45:44<2:50:09, 83.00s/it]"
     ]
    },
    {
     "name": "stdout",
     "output_type": "stream",
     "text": [
      "Best model saved at epoch 77 with AUC = 0.9658\n",
      "Epoch 077: | Loss: 0.16567 | Acc: 0.933 | Validation Accuracy: 0.904\n"
     ]
    },
    {
     "name": "stderr",
     "output_type": "stream",
     "text": [
      " 39%|███▉      | 78/200 [1:47:08<2:49:48, 83.52s/it]"
     ]
    },
    {
     "name": "stdout",
     "output_type": "stream",
     "text": [
      "Best model saved at epoch 78 with AUC = 0.9660\n",
      "Epoch 078: | Loss: 0.16262 | Acc: 0.934 | Validation Accuracy: 0.903\n"
     ]
    },
    {
     "name": "stderr",
     "output_type": "stream",
     "text": [
      " 40%|███▉      | 79/200 [1:48:29<2:46:52, 82.75s/it]"
     ]
    },
    {
     "name": "stdout",
     "output_type": "stream",
     "text": [
      "Epoch 079: | Loss: 0.16477 | Acc: 0.935 | Validation Accuracy: 0.890\n"
     ]
    },
    {
     "name": "stderr",
     "output_type": "stream",
     "text": [
      " 40%|████      | 80/200 [1:49:51<2:45:02, 82.52s/it]"
     ]
    },
    {
     "name": "stdout",
     "output_type": "stream",
     "text": [
      "Best model saved at epoch 80 with AUC = 0.9676\n",
      "Epoch 080: | Loss: 0.15508 | Acc: 0.937 | Validation Accuracy: 0.911\n"
     ]
    },
    {
     "name": "stderr",
     "output_type": "stream",
     "text": [
      " 40%|████      | 81/200 [1:51:13<2:43:05, 82.23s/it]"
     ]
    },
    {
     "name": "stdout",
     "output_type": "stream",
     "text": [
      "Epoch 081: | Loss: 0.15835 | Acc: 0.937 | Validation Accuracy: 0.906\n"
     ]
    },
    {
     "name": "stderr",
     "output_type": "stream",
     "text": [
      " 41%|████      | 82/200 [1:52:33<2:40:38, 81.68s/it]"
     ]
    },
    {
     "name": "stdout",
     "output_type": "stream",
     "text": [
      "Best model saved at epoch 82 with AUC = 0.9687\n",
      "Epoch 082: | Loss: 0.16120 | Acc: 0.933 | Validation Accuracy: 0.915\n"
     ]
    },
    {
     "name": "stderr",
     "output_type": "stream",
     "text": [
      " 42%|████▏     | 83/200 [1:53:51<2:36:53, 80.45s/it]"
     ]
    },
    {
     "name": "stdout",
     "output_type": "stream",
     "text": [
      "Best model saved at epoch 83 with AUC = 0.9690\n",
      "Epoch 083: | Loss: 0.15478 | Acc: 0.940 | Validation Accuracy: 0.915\n"
     ]
    },
    {
     "name": "stderr",
     "output_type": "stream",
     "text": [
      " 42%|████▏     | 84/200 [1:55:11<2:35:11, 80.27s/it]"
     ]
    },
    {
     "name": "stdout",
     "output_type": "stream",
     "text": [
      "Best model saved at epoch 84 with AUC = 0.9706\n",
      "Epoch 084: | Loss: 0.15247 | Acc: 0.939 | Validation Accuracy: 0.913\n"
     ]
    },
    {
     "name": "stderr",
     "output_type": "stream",
     "text": [
      " 42%|████▎     | 85/200 [1:56:29<2:32:31, 79.58s/it]"
     ]
    },
    {
     "name": "stdout",
     "output_type": "stream",
     "text": [
      "Epoch 085: | Loss: 0.15293 | Acc: 0.939 | Validation Accuracy: 0.913\n"
     ]
    },
    {
     "name": "stderr",
     "output_type": "stream",
     "text": [
      " 43%|████▎     | 86/200 [1:57:52<2:33:13, 80.65s/it]"
     ]
    },
    {
     "name": "stdout",
     "output_type": "stream",
     "text": [
      "Epoch 086: | Loss: 0.15182 | Acc: 0.941 | Validation Accuracy: 0.908\n"
     ]
    },
    {
     "name": "stderr",
     "output_type": "stream",
     "text": [
      " 44%|████▎     | 87/200 [1:59:13<2:32:02, 80.73s/it]"
     ]
    },
    {
     "name": "stdout",
     "output_type": "stream",
     "text": [
      "Best model saved at epoch 87 with AUC = 0.9715\n",
      "Epoch 087: | Loss: 0.15000 | Acc: 0.941 | Validation Accuracy: 0.908\n"
     ]
    },
    {
     "name": "stderr",
     "output_type": "stream",
     "text": [
      " 44%|████▍     | 88/200 [2:00:31<2:29:11, 79.93s/it]"
     ]
    },
    {
     "name": "stdout",
     "output_type": "stream",
     "text": [
      "Epoch 088: | Loss: 0.15006 | Acc: 0.940 | Validation Accuracy: 0.926\n"
     ]
    },
    {
     "name": "stderr",
     "output_type": "stream",
     "text": [
      " 44%|████▍     | 89/200 [2:01:54<2:29:31, 80.83s/it]"
     ]
    },
    {
     "name": "stdout",
     "output_type": "stream",
     "text": [
      "Epoch 089: | Loss: 0.14800 | Acc: 0.940 | Validation Accuracy: 0.920\n"
     ]
    },
    {
     "name": "stderr",
     "output_type": "stream",
     "text": [
      " 45%|████▌     | 90/200 [2:03:13<2:27:37, 80.52s/it]"
     ]
    },
    {
     "name": "stdout",
     "output_type": "stream",
     "text": [
      "Epoch 090: | Loss: 0.14269 | Acc: 0.942 | Validation Accuracy: 0.912\n"
     ]
    },
    {
     "name": "stderr",
     "output_type": "stream",
     "text": [
      " 46%|████▌     | 91/200 [2:04:37<2:27:59, 81.46s/it]"
     ]
    },
    {
     "name": "stdout",
     "output_type": "stream",
     "text": [
      "Epoch 091: | Loss: 0.14478 | Acc: 0.942 | Validation Accuracy: 0.920\n"
     ]
    },
    {
     "name": "stderr",
     "output_type": "stream",
     "text": [
      " 46%|████▌     | 92/200 [2:05:57<2:25:45, 80.98s/it]"
     ]
    },
    {
     "name": "stdout",
     "output_type": "stream",
     "text": [
      "Best model saved at epoch 92 with AUC = 0.9720\n",
      "Epoch 092: | Loss: 0.13962 | Acc: 0.945 | Validation Accuracy: 0.924\n"
     ]
    },
    {
     "name": "stderr",
     "output_type": "stream",
     "text": [
      " 46%|████▋     | 93/200 [2:07:17<2:23:39, 80.56s/it]"
     ]
    },
    {
     "name": "stdout",
     "output_type": "stream",
     "text": [
      "Best model saved at epoch 93 with AUC = 0.9727\n",
      "Epoch 093: | Loss: 0.14441 | Acc: 0.941 | Validation Accuracy: 0.926\n"
     ]
    },
    {
     "name": "stderr",
     "output_type": "stream",
     "text": [
      " 47%|████▋     | 94/200 [2:08:39<2:23:15, 81.09s/it]"
     ]
    },
    {
     "name": "stdout",
     "output_type": "stream",
     "text": [
      "Epoch 094: | Loss: 0.14256 | Acc: 0.942 | Validation Accuracy: 0.913\n"
     ]
    },
    {
     "name": "stderr",
     "output_type": "stream",
     "text": [
      " 48%|████▊     | 95/200 [2:10:03<2:23:29, 82.00s/it]"
     ]
    },
    {
     "name": "stdout",
     "output_type": "stream",
     "text": [
      "Epoch 095: | Loss: 0.13604 | Acc: 0.948 | Validation Accuracy: 0.921\n"
     ]
    },
    {
     "name": "stderr",
     "output_type": "stream",
     "text": [
      " 48%|████▊     | 96/200 [2:11:26<2:22:53, 82.43s/it]"
     ]
    },
    {
     "name": "stdout",
     "output_type": "stream",
     "text": [
      "Epoch 096: | Loss: 0.14036 | Acc: 0.944 | Validation Accuracy: 0.926\n"
     ]
    },
    {
     "name": "stderr",
     "output_type": "stream",
     "text": [
      " 48%|████▊     | 97/200 [2:12:53<2:23:33, 83.63s/it]"
     ]
    },
    {
     "name": "stdout",
     "output_type": "stream",
     "text": [
      "Best model saved at epoch 97 with AUC = 0.9740\n",
      "Epoch 097: | Loss: 0.14564 | Acc: 0.940 | Validation Accuracy: 0.927\n"
     ]
    },
    {
     "name": "stderr",
     "output_type": "stream",
     "text": [
      " 49%|████▉     | 98/200 [2:14:16<2:21:51, 83.44s/it]"
     ]
    },
    {
     "name": "stdout",
     "output_type": "stream",
     "text": [
      "Epoch 098: | Loss: 0.14414 | Acc: 0.942 | Validation Accuracy: 0.923\n"
     ]
    },
    {
     "name": "stderr",
     "output_type": "stream",
     "text": [
      " 50%|████▉     | 99/200 [2:15:38<2:19:49, 83.06s/it]"
     ]
    },
    {
     "name": "stdout",
     "output_type": "stream",
     "text": [
      "Epoch 099: | Loss: 0.13799 | Acc: 0.946 | Validation Accuracy: 0.929\n"
     ]
    },
    {
     "name": "stderr",
     "output_type": "stream",
     "text": [
      " 50%|█████     | 100/200 [2:17:00<2:17:56, 82.76s/it]"
     ]
    },
    {
     "name": "stdout",
     "output_type": "stream",
     "text": [
      "Epoch 100: | Loss: 0.14157 | Acc: 0.944 | Validation Accuracy: 0.923\n"
     ]
    },
    {
     "name": "stderr",
     "output_type": "stream",
     "text": [
      " 50%|█████     | 101/200 [2:18:24<2:17:20, 83.23s/it]"
     ]
    },
    {
     "name": "stdout",
     "output_type": "stream",
     "text": [
      "Epoch 101: | Loss: 0.13537 | Acc: 0.946 | Validation Accuracy: 0.929\n"
     ]
    },
    {
     "name": "stderr",
     "output_type": "stream",
     "text": [
      " 51%|█████     | 102/200 [2:19:50<2:17:10, 83.98s/it]"
     ]
    },
    {
     "name": "stdout",
     "output_type": "stream",
     "text": [
      "Epoch 102: | Loss: 0.13223 | Acc: 0.948 | Validation Accuracy: 0.924\n"
     ]
    },
    {
     "name": "stderr",
     "output_type": "stream",
     "text": [
      " 52%|█████▏    | 103/200 [2:21:15<2:16:21, 84.34s/it]"
     ]
    },
    {
     "name": "stdout",
     "output_type": "stream",
     "text": [
      "Best model saved at epoch 103 with AUC = 0.9745\n",
      "Epoch 103: | Loss: 0.13741 | Acc: 0.946 | Validation Accuracy: 0.922\n"
     ]
    },
    {
     "name": "stderr",
     "output_type": "stream",
     "text": [
      " 52%|█████▏    | 104/200 [2:22:40<2:15:16, 84.55s/it]"
     ]
    },
    {
     "name": "stdout",
     "output_type": "stream",
     "text": [
      "Epoch 104: | Loss: 0.13339 | Acc: 0.947 | Validation Accuracy: 0.930\n"
     ]
    },
    {
     "name": "stderr",
     "output_type": "stream",
     "text": [
      " 52%|█████▎    | 105/200 [2:24:00<2:11:31, 83.07s/it]"
     ]
    },
    {
     "name": "stdout",
     "output_type": "stream",
     "text": [
      "Best model saved at epoch 105 with AUC = 0.9753\n",
      "Epoch 105: | Loss: 0.12814 | Acc: 0.950 | Validation Accuracy: 0.934\n"
     ]
    },
    {
     "name": "stderr",
     "output_type": "stream",
     "text": [
      " 53%|█████▎    | 106/200 [2:25:20<2:08:44, 82.17s/it]"
     ]
    },
    {
     "name": "stdout",
     "output_type": "stream",
     "text": [
      "Epoch 106: | Loss: 0.13450 | Acc: 0.948 | Validation Accuracy: 0.924\n"
     ]
    },
    {
     "name": "stderr",
     "output_type": "stream",
     "text": [
      " 54%|█████▎    | 107/200 [2:26:44<2:07:57, 82.55s/it]"
     ]
    },
    {
     "name": "stdout",
     "output_type": "stream",
     "text": [
      "Epoch 107: | Loss: 0.13090 | Acc: 0.949 | Validation Accuracy: 0.922\n"
     ]
    },
    {
     "name": "stderr",
     "output_type": "stream",
     "text": [
      " 54%|█████▍    | 108/200 [2:28:09<2:07:51, 83.38s/it]"
     ]
    },
    {
     "name": "stdout",
     "output_type": "stream",
     "text": [
      "Epoch 108: | Loss: 0.12829 | Acc: 0.949 | Validation Accuracy: 0.930\n"
     ]
    },
    {
     "name": "stderr",
     "output_type": "stream",
     "text": [
      " 55%|█████▍    | 109/200 [2:29:36<2:08:09, 84.50s/it]"
     ]
    },
    {
     "name": "stdout",
     "output_type": "stream",
     "text": [
      "Epoch 109: | Loss: 0.13081 | Acc: 0.948 | Validation Accuracy: 0.926\n"
     ]
    },
    {
     "name": "stderr",
     "output_type": "stream",
     "text": [
      " 55%|█████▌    | 110/200 [2:31:05<2:08:42, 85.81s/it]"
     ]
    },
    {
     "name": "stdout",
     "output_type": "stream",
     "text": [
      "Epoch 110: | Loss: 0.12482 | Acc: 0.951 | Validation Accuracy: 0.929\n"
     ]
    },
    {
     "name": "stderr",
     "output_type": "stream",
     "text": [
      " 56%|█████▌    | 111/200 [2:32:32<2:07:53, 86.22s/it]"
     ]
    },
    {
     "name": "stdout",
     "output_type": "stream",
     "text": [
      "Epoch 111: | Loss: 0.12453 | Acc: 0.952 | Validation Accuracy: 0.930\n"
     ]
    },
    {
     "name": "stderr",
     "output_type": "stream",
     "text": [
      " 56%|█████▌    | 112/200 [2:33:58<2:06:12, 86.05s/it]"
     ]
    },
    {
     "name": "stdout",
     "output_type": "stream",
     "text": [
      "Epoch 112: | Loss: 0.12525 | Acc: 0.951 | Validation Accuracy: 0.927\n"
     ]
    },
    {
     "name": "stderr",
     "output_type": "stream",
     "text": [
      " 56%|█████▋    | 113/200 [2:35:23<2:04:25, 85.80s/it]"
     ]
    },
    {
     "name": "stdout",
     "output_type": "stream",
     "text": [
      "Best model saved at epoch 113 with AUC = 0.9766\n",
      "Epoch 113: | Loss: 0.12576 | Acc: 0.951 | Validation Accuracy: 0.928\n"
     ]
    },
    {
     "name": "stderr",
     "output_type": "stream",
     "text": [
      " 57%|█████▋    | 114/200 [2:36:49<2:03:03, 85.86s/it]"
     ]
    },
    {
     "name": "stdout",
     "output_type": "stream",
     "text": [
      "Epoch 114: | Loss: 0.12652 | Acc: 0.952 | Validation Accuracy: 0.931\n"
     ]
    },
    {
     "name": "stderr",
     "output_type": "stream",
     "text": [
      " 57%|█████▊    | 115/200 [2:38:14<2:01:22, 85.68s/it]"
     ]
    },
    {
     "name": "stdout",
     "output_type": "stream",
     "text": [
      "Epoch 115: | Loss: 0.12421 | Acc: 0.951 | Validation Accuracy: 0.927\n"
     ]
    },
    {
     "name": "stderr",
     "output_type": "stream",
     "text": [
      " 58%|█████▊    | 116/200 [2:39:36<1:58:24, 84.58s/it]"
     ]
    },
    {
     "name": "stdout",
     "output_type": "stream",
     "text": [
      "Epoch 116: | Loss: 0.12216 | Acc: 0.953 | Validation Accuracy: 0.933\n"
     ]
    },
    {
     "name": "stderr",
     "output_type": "stream",
     "text": [
      " 58%|█████▊    | 117/200 [2:40:59<1:56:10, 83.98s/it]"
     ]
    },
    {
     "name": "stdout",
     "output_type": "stream",
     "text": [
      "Epoch 117: | Loss: 0.12071 | Acc: 0.954 | Validation Accuracy: 0.936\n"
     ]
    },
    {
     "name": "stderr",
     "output_type": "stream",
     "text": [
      " 59%|█████▉    | 118/200 [2:42:23<1:54:54, 84.08s/it]"
     ]
    },
    {
     "name": "stdout",
     "output_type": "stream",
     "text": [
      "Epoch 118: | Loss: 0.12222 | Acc: 0.953 | Validation Accuracy: 0.918\n"
     ]
    },
    {
     "name": "stderr",
     "output_type": "stream",
     "text": [
      " 60%|█████▉    | 119/200 [2:43:46<1:52:56, 83.66s/it]"
     ]
    },
    {
     "name": "stdout",
     "output_type": "stream",
     "text": [
      "Epoch 119: | Loss: 0.12859 | Acc: 0.951 | Validation Accuracy: 0.930\n"
     ]
    },
    {
     "name": "stderr",
     "output_type": "stream",
     "text": [
      " 60%|██████    | 120/200 [2:45:03<1:49:07, 81.85s/it]"
     ]
    },
    {
     "name": "stdout",
     "output_type": "stream",
     "text": [
      "Epoch 120: | Loss: 0.11862 | Acc: 0.953 | Validation Accuracy: 0.933\n"
     ]
    },
    {
     "name": "stderr",
     "output_type": "stream",
     "text": [
      " 60%|██████    | 121/200 [2:46:24<1:47:09, 81.39s/it]"
     ]
    },
    {
     "name": "stdout",
     "output_type": "stream",
     "text": [
      "Epoch 121: | Loss: 0.11671 | Acc: 0.954 | Validation Accuracy: 0.924\n"
     ]
    },
    {
     "name": "stderr",
     "output_type": "stream",
     "text": [
      " 61%|██████    | 122/200 [2:47:46<1:45:59, 81.53s/it]"
     ]
    },
    {
     "name": "stdout",
     "output_type": "stream",
     "text": [
      "Epoch 122: | Loss: 0.12120 | Acc: 0.953 | Validation Accuracy: 0.936\n"
     ]
    },
    {
     "name": "stderr",
     "output_type": "stream",
     "text": [
      " 61%|██████    | 122/200 [2:49:07<1:48:07, 83.18s/it]"
     ]
    },
    {
     "name": "stdout",
     "output_type": "stream",
     "text": [
      "Early stopping triggered at epoch 123\n"
     ]
    },
    {
     "name": "stderr",
     "output_type": "stream",
     "text": [
      "\n"
     ]
    }
   ],
   "source": [
    "# Metrics to keep track of, early stopping parameters\n",
    "train_accuracies = []\n",
    "val_accuracies = []\n",
    "train_loss=[]\n",
    "val_loss=[]\n",
    "best_auc = 0.0\n",
    "epochs_no_improve = 0\n",
    "EPOCHS = 200\n",
    "patience = 10\n",
    "early_stop = False\n",
    "\n",
    "cnn.train()\n",
    "\n",
    "for e in tqdm(range(1, EPOCHS+1)):\n",
    "    running_loss = 0.0\n",
    "    correct = 0\n",
    "    total = 0\n",
    "\n",
    "    # Training\n",
    "    for X_batch, y_batch in train_loader:\n",
    "        X_batch = X_batch.to(device)\n",
    "        y_batch = y_batch.to(device).view(-1)\n",
    "\n",
    "        optimizer_cnn.zero_grad() # Reset gradients\n",
    "\n",
    "        y_pred_logits, _ = cnn(X_batch)\n",
    "        y_pred_logits = y_pred_logits.view(-1) # Forward pass\n",
    "        y_pred_proba = torch.sigmoid(y_pred_logits) # Convert logits to probabilities\n",
    "        label_predicted = (y_pred_proba >= 0.5).int() # Binary prediction\n",
    "\n",
    "        loss = criterion_cnn(y_pred_logits, y_batch.float()) # Compute loss\n",
    "        running_loss += loss.item()\n",
    "\n",
    "        total += y_batch.size(0)\n",
    "        correct += (label_predicted == y_batch.int()).sum().item() # Count correct predictions\n",
    "\n",
    "        loss.backward() # Backpropagation\n",
    "        optimizer_cnn.step() # Update weights\n",
    "\n",
    "    train_acc = correct / total\n",
    "    train_accuracies.append(train_acc)\n",
    "    train_loss.append(running_loss/len(train_loader))\n",
    "\n",
    "    # Validation\n",
    "    cnn.eval()  # Eval mode - no dropout or gradients\n",
    "    val_correct = 0\n",
    "    val_total = 0\n",
    "    val_running_loss = 0.0\n",
    "    all_val_probs = []\n",
    "    all_val_labels = []\n",
    "    \n",
    "    with torch.no_grad(): # No gradient calculation\n",
    "        for X_batch, y_batch in val_loader:\n",
    "            X_batch = X_batch.to(device)\n",
    "            y_batch = y_batch.to(device).view(-1)\n",
    "\n",
    "            y_pred_logits, _ = cnn(X_batch)\n",
    "            y_pred_logits = y_pred_logits.view(-1) # Forward pass\n",
    "            y_pred_proba = torch.sigmoid(y_pred_logits) # Convert logits to probabilities\n",
    "            val_predicted = (y_pred_proba >= 0.5).int() # Binary prediction\n",
    "\n",
    "            # For AUC calculations\n",
    "            all_val_probs.extend(y_pred_proba.cpu().numpy())\n",
    "            all_val_labels.extend(y_batch.cpu().numpy())\n",
    "\n",
    "            loss = criterion_cnn(y_pred_logits, y_batch.float()) # Compute loss\n",
    "            val_running_loss += loss.item()\n",
    "\n",
    "            val_total += y_batch.size(0)\n",
    "            val_correct += (val_predicted == y_batch.int()).sum().item() # Count correct predictions\n",
    "\n",
    "    # Calulate AUC for model saving\n",
    "    val_auc = roc_auc_score(all_val_labels, all_val_probs)\n",
    "    val_acc = val_correct / val_total\n",
    "    val_accuracies.append(val_acc)\n",
    "    val_loss.append(val_running_loss/len(val_loader))\n",
    "\n",
    "    # Early stopping and save model with best AUC\n",
    "    if val_auc > best_auc:\n",
    "        best_auc = val_auc\n",
    "        torch.save(cnn.state_dict(), '/kaggle/working/best_cnn.pth')\n",
    "        print(f\"Best model saved at epoch {e} with AUC = {best_auc:.4f}\")\n",
    "        epochs_no_improve = 0\n",
    "    else:\n",
    "        epochs_no_improve += 1\n",
    "        if epochs_no_improve >= patience:\n",
    "            print(f\"Early stopping triggered at epoch {e}\")\n",
    "            early_stop = True\n",
    "\n",
    "    if early_stop:\n",
    "        break\n",
    "\n",
    "    cnn.train() # Back to train mode\n",
    "\n",
    "    # Print metrics for current model\n",
    "    print(f'Epoch {e+0:03}: | Loss: {running_loss/len(train_loader):.5f} | Acc: {train_acc:.3f} | Validation Accuracy: {val_acc:.3f}')"
   ]
  },
  {
   "cell_type": "code",
   "execution_count": 10,
   "id": "7d4ca30f",
   "metadata": {
    "execution": {
     "iopub.execute_input": "2025-05-05T21:23:34.694944Z",
     "iopub.status.busy": "2025-05-05T21:23:34.694293Z",
     "iopub.status.idle": "2025-05-05T21:23:34.701928Z",
     "shell.execute_reply": "2025-05-05T21:23:34.701222Z"
    },
    "papermill": {
     "duration": 0.023419,
     "end_time": "2025-05-05T21:23:34.703055",
     "exception": false,
     "start_time": "2025-05-05T21:23:34.679636",
     "status": "completed"
    },
    "tags": []
   },
   "outputs": [],
   "source": [
    "# Save final model\n",
    "torch.save(cnn.state_dict(), \"/kaggle/working/final_cnn.pth\")"
   ]
  },
  {
   "cell_type": "code",
   "execution_count": 11,
   "id": "34c5a1d2",
   "metadata": {
    "execution": {
     "iopub.execute_input": "2025-05-05T21:23:34.731343Z",
     "iopub.status.busy": "2025-05-05T21:23:34.730781Z",
     "iopub.status.idle": "2025-05-05T21:23:34.737628Z",
     "shell.execute_reply": "2025-05-05T21:23:34.736869Z"
    },
    "papermill": {
     "duration": 0.022095,
     "end_time": "2025-05-05T21:23:34.738719",
     "exception": false,
     "start_time": "2025-05-05T21:23:34.716624",
     "status": "completed"
    },
    "tags": []
   },
   "outputs": [],
   "source": [
    "def plot_train_val_accuracy(train_accuracies,val_accuracies, title='Training and Validation Accuracy', y_lims=[0, 1]):\n",
    "    \"\"\"\n",
    "    Plots training and validation accuracy over epochs\n",
    "    \"\"\"\n",
    "    plt.figure(figsize=(10, 5))\n",
    "    plt.plot(range(1, len(train_accuracies) + 1), train_accuracies, label='Train Accuracy', color='tab:blue', marker='o')\n",
    "    plt.plot(range(1, len(val_accuracies) + 1), val_accuracies, label='Validation Accuracy', color='tab:red', marker='s')\n",
    "    plt.xlabel('Epochs')\n",
    "    plt.ylabel('Accuracy')\n",
    "    plt.title(title)\n",
    "    plt.ylim(y_lims[0], y_lims[1])\n",
    "    plt.legend()\n",
    "    plt.grid()\n",
    "    plt.savefig('/kaggle/working/accuracy.png')\n",
    "\n",
    "def plot_train_val_loss(train_loss,val_loss, title='Training and Validation Loss'):\n",
    "    \"\"\"\n",
    "    Plots training and validation loss over epochs\n",
    "    \"\"\"\n",
    "    plt.figure(figsize=(10, 5))\n",
    "    plt.plot(range(1, len(train_loss) + 1), train_loss, label='Train Loss', color='tab:blue', marker='o')\n",
    "    plt.plot(range(1, len(val_loss) + 1), val_loss, label='Validation Loss', color='tab:red', marker='s')\n",
    "    plt.xlabel('Epochs')\n",
    "    plt.ylabel('Loss')\n",
    "    plt.title(title)\n",
    "    plt.legend()\n",
    "    plt.grid()\n",
    "    plt.savefig('/kaggle/working/loss.png')"
   ]
  },
  {
   "cell_type": "code",
   "execution_count": 12,
   "id": "9cdc5a09",
   "metadata": {
    "execution": {
     "iopub.execute_input": "2025-05-05T21:23:34.767130Z",
     "iopub.status.busy": "2025-05-05T21:23:34.766809Z",
     "iopub.status.idle": "2025-05-05T21:23:35.382733Z",
     "shell.execute_reply": "2025-05-05T21:23:35.382052Z"
    },
    "papermill": {
     "duration": 0.63192,
     "end_time": "2025-05-05T21:23:35.384558",
     "exception": false,
     "start_time": "2025-05-05T21:23:34.752638",
     "status": "completed"
    },
    "tags": []
   },
   "outputs": [
    {
     "data": {
      "image/png": "[encoded data removed]",
      "text/plain": [
       "<Figure size 1000x500 with 1 Axes>"
      ]
     },
     "metadata": {},
     "output_type": "display_data"
    },
    {
     "data": {
      "image/png": "[encoded data removed]",
      "text/plain": [
       "<Figure size 1000x500 with 1 Axes>"
      ]
     },
     "metadata": {},
     "output_type": "display_data"
    }
   ],
   "source": [
    "# Plot accuracy and loss curves\n",
    "plot_train_val_accuracy(train_accuracies, val_accuracies)\n",
    "plot_train_val_loss(train_loss, val_loss)"
   ]
  },
  {
   "cell_type": "markdown",
   "id": "93bbb4dc",
   "metadata": {
    "papermill": {
     "duration": 0.014313,
     "end_time": "2025-05-05T21:23:35.415650",
     "exception": false,
     "start_time": "2025-05-05T21:23:35.401337",
     "status": "completed"
    },
    "tags": []
   },
   "source": [
    "## Test data\n",
    "Run model on the test data and view results"
   ]
  },
  {
   "cell_type": "code",
   "execution_count": 13,
   "id": "ebf0dfca",
   "metadata": {
    "execution": {
     "iopub.execute_input": "2025-05-05T21:23:35.446205Z",
     "iopub.status.busy": "2025-05-05T21:23:35.445582Z",
     "iopub.status.idle": "2025-05-05T21:24:23.614157Z",
     "shell.execute_reply": "2025-05-05T21:24:23.613282Z"
    },
    "papermill": {
     "duration": 48.185466,
     "end_time": "2025-05-05T21:24:23.615646",
     "exception": false,
     "start_time": "2025-05-05T21:23:35.430180",
     "status": "completed"
    },
    "tags": []
   },
   "outputs": [
    {
     "name": "stderr",
     "output_type": "stream",
     "text": [
      "/tmp/ipykernel_19/186817971.py:2: FutureWarning: You are using `torch.load` with `weights_only=False` (the current default value), which uses the default pickle module implicitly. It is possible to construct malicious pickle data which will execute arbitrary code during unpickling (See https://github.com/pytorch/pytorch/blob/main/SECURITY.md#untrusted-models for more details). In a future release, the default value for `weights_only` will be flipped to `True`. This limits the functions that could be executed during unpickling. Arbitrary objects will no longer be allowed to be loaded via this mode unless they are explicitly allowlisted by the user via `torch.serialization.add_safe_globals`. We recommend you start setting `weights_only=True` for any use case where you don't have full control of the loaded file. Please open an issue on GitHub for any issues related to this experimental feature.\n",
      "  cnn.load_state_dict(torch.load('/kaggle/working/best_cnn.pth'))\n"
     ]
    }
   ],
   "source": [
    "# Run model on test data and keep track of metrics\n",
    "cnn.load_state_dict(torch.load('/kaggle/working/best_cnn.pth'))\n",
    "cnn.eval()\n",
    "correct = 0\n",
    "total = 0\n",
    "all_probs = []\n",
    "all_preds = []\n",
    "all_labels = []\n",
    "\n",
    "with torch.no_grad():\n",
    "    for X_batch, y_batch in test_loader:\n",
    "        X_batch = X_batch.to(device)\n",
    "        y_batch = y_batch.to(device).view(-1) \n",
    "\n",
    "        output, _ = cnn(X_batch)\n",
    "        output = output.view(-1)\n",
    "\n",
    "        probs = torch.sigmoid(output)\n",
    "        preds = (probs >= 0.5).float()\n",
    "\n",
    "        all_probs.extend(probs.cpu().numpy())\n",
    "        all_preds.extend(preds.cpu().numpy())\n",
    "        all_labels.extend(y_batch.cpu().numpy())\n",
    "\n",
    "        correct += (preds == y_batch).sum().item()\n",
    "        total += y_batch.size(0)"
   ]
  },
  {
   "cell_type": "code",
   "execution_count": 14,
   "id": "a501f9ce",
   "metadata": {
    "execution": {
     "iopub.execute_input": "2025-05-05T21:24:23.648426Z",
     "iopub.status.busy": "2025-05-05T21:24:23.647617Z",
     "iopub.status.idle": "2025-05-05T21:24:23.654658Z",
     "shell.execute_reply": "2025-05-05T21:24:23.654148Z"
    },
    "papermill": {
     "duration": 0.024162,
     "end_time": "2025-05-05T21:24:23.655709",
     "exception": false,
     "start_time": "2025-05-05T21:24:23.631547",
     "status": "completed"
    },
    "tags": []
   },
   "outputs": [],
   "source": [
    "# Convert lists to arrays\n",
    "y_test = np.array(all_labels)\n",
    "y_pred = np.array(all_preds)\n",
    "y_prob = np.array(all_probs)\n",
    "\n",
    "# Save arrays\n",
    "np.save('/kaggle/working/y_test_tuned.npy', y_test)\n",
    "np.save('/kaggle/working/y_pred_tuned.npy', y_pred)\n",
    "np.save('/kaggle/working/y_prob_tuned.npy', y_prob)"
   ]
  },
  {
   "cell_type": "code",
   "execution_count": 15,
   "id": "75111289",
   "metadata": {
    "execution": {
     "iopub.execute_input": "2025-05-05T21:24:23.687424Z",
     "iopub.status.busy": "2025-05-05T21:24:23.686650Z",
     "iopub.status.idle": "2025-05-05T21:24:23.711970Z",
     "shell.execute_reply": "2025-05-05T21:24:23.711244Z"
    },
    "papermill": {
     "duration": 0.042313,
     "end_time": "2025-05-05T21:24:23.713332",
     "exception": false,
     "start_time": "2025-05-05T21:24:23.671019",
     "status": "completed"
    },
    "tags": []
   },
   "outputs": [
    {
     "name": "stdout",
     "output_type": "stream",
     "text": [
      "Confusion Matrix:\n",
      "                         Predicted Not Readmitted  Predicted Readmitted\n",
      "Actually Not Readmitted                      3247                   154\n",
      "Actually Readmitted                           340                  3079\n",
      "\n",
      "--------------------------------------------------------------------------------\n",
      "\n",
      "Classification Report:\n",
      "              precision    recall  f1-score   support\n",
      "\n",
      "         0.0       0.91      0.95      0.93      3401\n",
      "         1.0       0.95      0.90      0.93      3419\n",
      "\n",
      "    accuracy                           0.93      6820\n",
      "   macro avg       0.93      0.93      0.93      6820\n",
      "weighted avg       0.93      0.93      0.93      6820\n",
      "\n"
     ]
    }
   ],
   "source": [
    "# Confusion matrix\n",
    "cm = confusion_matrix(y_test, y_pred)\n",
    "confusion_df = pd.DataFrame(cm,\n",
    "                            index = ['Actually Not Readmitted', 'Actually Readmitted'],\n",
    "                            columns = ['Predicted Not Readmitted', 'Predicted Readmitted'])\n",
    "print(\"Confusion Matrix:\")\n",
    "print(confusion_df)\n",
    "print(\"\\n\" + \"-\"*80 + \"\\n\")\n",
    "\n",
    "# Classification report\n",
    "print(\"Classification Report:\")\n",
    "print(classification_report(y_test, y_pred, zero_division=0))"
   ]
  },
  {
   "cell_type": "code",
   "execution_count": 16,
   "id": "453559f2",
   "metadata": {
    "execution": {
     "iopub.execute_input": "2025-05-05T21:24:23.745200Z",
     "iopub.status.busy": "2025-05-05T21:24:23.744501Z",
     "iopub.status.idle": "2025-05-05T21:24:23.760441Z",
     "shell.execute_reply": "2025-05-05T21:24:23.759761Z"
    },
    "papermill": {
     "duration": 0.032871,
     "end_time": "2025-05-05T21:24:23.761563",
     "exception": false,
     "start_time": "2025-05-05T21:24:23.728692",
     "status": "completed"
    },
    "tags": []
   },
   "outputs": [
    {
     "name": "stdout",
     "output_type": "stream",
     "text": [
      "Test Accuracy: 0.9276\n",
      "Precision: 0.9524\n",
      "Recall: 0.900556\n",
      "F1-Score: 0.9257\n",
      "AUC: 0.9755\n"
     ]
    }
   ],
   "source": [
    "# Compute and print metrics\n",
    "accuracy = accuracy_score(y_test, y_pred)\n",
    "precision = precision_score(y_test, y_pred, zero_division=0)\n",
    "recall = recall_score(y_test, y_pred, zero_division=0)\n",
    "f1 = f1_score(y_test, y_pred, zero_division=0)\n",
    "auc = roc_auc_score(y_test, y_prob)\n",
    "fpr, tpr, thresholds = roc_curve(y_test, y_prob)\n",
    "\n",
    "print(f\"Test Accuracy: {accuracy:.4f}\")\n",
    "print(f\"Precision: {precision:.4f}\")\n",
    "print(f\"Recall: {recall:4f}\")\n",
    "print(f\"F1-Score: {f1:.4f}\")\n",
    "print(f\"AUC: {auc:.4f}\")"
   ]
  },
  {
   "cell_type": "code",
   "execution_count": 17,
   "id": "b0da4b13",
   "metadata": {
    "execution": {
     "iopub.execute_input": "2025-05-05T21:24:23.792688Z",
     "iopub.status.busy": "2025-05-05T21:24:23.792213Z",
     "iopub.status.idle": "2025-05-05T21:24:23.801310Z",
     "shell.execute_reply": "2025-05-05T21:24:23.800542Z"
    },
    "papermill": {
     "duration": 0.025773,
     "end_time": "2025-05-05T21:24:23.802472",
     "exception": false,
     "start_time": "2025-05-05T21:24:23.776699",
     "status": "completed"
    },
    "tags": []
   },
   "outputs": [],
   "source": [
    "def plot_roc_curve(fpr, tpr):\n",
    "    \"\"\"\n",
    "    Plot ROC curve\n",
    "    \"\"\"\n",
    "    plt.figure(figsize=(6, 6))\n",
    "    plt.plot(fpr, tpr, color='tab:blue', label=f\"ROC Curve (AUC = {auc:.2f})\", linewidth=2)\n",
    "    plt.plot([0,1], [0,1], 'k--', label='Random Classifier')\n",
    "    plt.xlabel('False Positive Rate')\n",
    "    plt.ylabel('True Positive Rate')\n",
    "    plt.title('ROC Curve')\n",
    "    plt.legend(loc='lower right')\n",
    "    plt.grid(True, alpha=0.2)\n",
    "    plt.tight_layout()\n",
    "    plt.savefig('/kaggle/working/roc.png')\n",
    "    plt.show()\n",
    "\n",
    "def pr_and_f1_curves(y_true, y_prob):\n",
    "    \"\"\"\n",
    "    Plot precision-recall curve and F1 vs threshold curve.\n",
    "    \"\"\"\n",
    "    # PR data\n",
    "    prec, rec, thresh = precision_recall_curve(y_true, y_prob)\n",
    "    prec, rec = prec[:-1], rec[:-1]\n",
    "    f1 = 2 * (prec * rec) / (prec + rec + 1e-8)\n",
    "\n",
    "    best_idx      = np.argmax(f1)\n",
    "    best_thr      = thresh[best_idx]\n",
    "    best_f1       = f1[best_idx]\n",
    "    avg_prec      = average_precision_score(y_true, y_prob)\n",
    "\n",
    "    fig, ax = plt.subplots(1, 2, figsize=(11, 4.5))\n",
    "\n",
    "    # Left: PR curve\n",
    "    ax[0].plot(rec, prec, color='tab:blue', label=f'PR curve  (AP = {avg_prec:.3f})')\n",
    "    ax[0].scatter(rec[best_idx], prec[best_idx], color='red', zorder=5,\n",
    "                  label=f'Best F₁ = {best_f1:.3f}\\n@ thr = {best_thr:.2f}')\n",
    "    ax[0].set_xlabel('Recall')\n",
    "    ax[0].set_ylabel('Precision')\n",
    "    ax[0].set_title('Precision–Recall curve')\n",
    "    ax[0].legend()\n",
    "    ax[0].grid(True)\n",
    "\n",
    "    # Right: F1 vs threshold\n",
    "    ax[1].plot(thresh, f1, color='tab:blue')\n",
    "    ax[1].scatter(best_thr, best_f1, color='red', zorder=5)\n",
    "    ax[1].set_xlabel('Threshold')\n",
    "    ax[1].set_ylabel('F₁ score')\n",
    "    ax[1].set_title('F₁ score vs decision threshold')\n",
    "    ax[1].grid(True)\n",
    "\n",
    "    plt.tight_layout()\n",
    "    plt.savefig('/kaggle/working/pr_f1.png')\n",
    "    plt.show()\n",
    "\n",
    "    return best_thr, best_f1"
   ]
  },
  {
   "cell_type": "code",
   "execution_count": 18,
   "id": "c255f980",
   "metadata": {
    "execution": {
     "iopub.execute_input": "2025-05-05T21:24:23.833366Z",
     "iopub.status.busy": "2025-05-05T21:24:23.832794Z",
     "iopub.status.idle": "2025-05-05T21:24:24.132776Z",
     "shell.execute_reply": "2025-05-05T21:24:24.131938Z"
    },
    "papermill": {
     "duration": 0.316573,
     "end_time": "2025-05-05T21:24:24.133983",
     "exception": false,
     "start_time": "2025-05-05T21:24:23.817410",
     "status": "completed"
    },
    "tags": []
   },
   "outputs": [
    {
     "data": {
      "image/png": "[encoded data removed]",
      "text/plain": [
       "<Figure size 600x600 with 1 Axes>"
      ]
     },
     "metadata": {},
     "output_type": "display_data"
    }
   ],
   "source": [
    "# ROC curve\n",
    "plot_roc_curve(fpr, tpr)"
   ]
  },
  {
   "cell_type": "markdown",
   "id": "5810f6c9",
   "metadata": {
    "papermill": {
     "duration": 0.015744,
     "end_time": "2025-05-05T21:24:24.165976",
     "exception": false,
     "start_time": "2025-05-05T21:24:24.150232",
     "status": "completed"
    },
    "tags": []
   },
   "source": [
    "## Maximizing F1 score\n",
    "Inspect the precision-recall curve and f1 vs threshold score, and change threshold to maximise F1 score"
   ]
  },
  {
   "cell_type": "code",
   "execution_count": 19,
   "id": "802cc6d0",
   "metadata": {
    "execution": {
     "iopub.execute_input": "2025-05-05T21:24:24.198248Z",
     "iopub.status.busy": "2025-05-05T21:24:24.197613Z",
     "iopub.status.idle": "2025-05-05T21:24:24.819713Z",
     "shell.execute_reply": "2025-05-05T21:24:24.819054Z"
    },
    "papermill": {
     "duration": 0.640264,
     "end_time": "2025-05-05T21:24:24.821725",
     "exception": false,
     "start_time": "2025-05-05T21:24:24.181461",
     "status": "completed"
    },
    "tags": []
   },
   "outputs": [
    {
     "data": {
      "image/png": "[encoded data removed]",
      "text/plain": [
       "<Figure size 1100x450 with 2 Axes>"
      ]
     },
     "metadata": {},
     "output_type": "display_data"
    },
    {
     "name": "stdout",
     "output_type": "stream",
     "text": [
      "Optimal threshold = 0.346  |  Best F1 = 0.929\n"
     ]
    }
   ],
   "source": [
    "# Plot precision-recall and F1 vs threshold plots\n",
    "best_thr, best_f1 = pr_and_f1_curves(all_labels, all_probs)\n",
    "print(f\"Optimal threshold = {best_thr:.3f}  |  Best F1 = {best_f1:.3f}\")"
   ]
  },
  {
   "cell_type": "code",
   "execution_count": 20,
   "id": "d5885b79",
   "metadata": {
    "execution": {
     "iopub.execute_input": "2025-05-05T21:24:24.857189Z",
     "iopub.status.busy": "2025-05-05T21:24:24.856818Z",
     "iopub.status.idle": "2025-05-05T21:24:24.861265Z",
     "shell.execute_reply": "2025-05-05T21:24:24.860504Z"
    },
    "papermill": {
     "duration": 0.02352,
     "end_time": "2025-05-05T21:24:24.862449",
     "exception": false,
     "start_time": "2025-05-05T21:24:24.838929",
     "status": "completed"
    },
    "tags": []
   },
   "outputs": [],
   "source": [
    "# Change threshold to maximise F1 score\n",
    "final_preds = (np.array(all_probs) >= best_thr).astype(int)"
   ]
  },
  {
   "cell_type": "code",
   "execution_count": 21,
   "id": "2ef1514a",
   "metadata": {
    "execution": {
     "iopub.execute_input": "2025-05-05T21:24:24.896924Z",
     "iopub.status.busy": "2025-05-05T21:24:24.896180Z",
     "iopub.status.idle": "2025-05-05T21:24:24.925675Z",
     "shell.execute_reply": "2025-05-05T21:24:24.925018Z"
    },
    "papermill": {
     "duration": 0.047731,
     "end_time": "2025-05-05T21:24:24.926885",
     "exception": false,
     "start_time": "2025-05-05T21:24:24.879154",
     "status": "completed"
    },
    "tags": []
   },
   "outputs": [
    {
     "name": "stdout",
     "output_type": "stream",
     "text": [
      "Confusion Matrix:\n",
      "                         Predicted Not Readmitted  Predicted Readmitted\n",
      "Actually Not Readmitted                      3152                   249\n",
      "Actually Readmitted                           236                  3183\n",
      "\n",
      "--------------------------------------------------------------------------------\n",
      "\n",
      "Classification Report:\n",
      "              precision    recall  f1-score   support\n",
      "\n",
      "         0.0       0.93      0.93      0.93      3401\n",
      "         1.0       0.93      0.93      0.93      3419\n",
      "\n",
      "    accuracy                           0.93      6820\n",
      "   macro avg       0.93      0.93      0.93      6820\n",
      "weighted avg       0.93      0.93      0.93      6820\n",
      "\n"
     ]
    }
   ],
   "source": [
    "# New confusion matrix\n",
    "cm = confusion_matrix(y_test, final_preds)\n",
    "confusion_df = pd.DataFrame(cm,\n",
    "                            index = ['Actually Not Readmitted', 'Actually Readmitted'],\n",
    "                            columns = ['Predicted Not Readmitted', 'Predicted Readmitted'])\n",
    "print(\"Confusion Matrix:\")\n",
    "print(confusion_df)\n",
    "print(\"\\n\" + \"-\"*80 + \"\\n\")\n",
    "\n",
    "# Classification report\n",
    "print(\"Classification Report:\")\n",
    "print(classification_report(y_test, final_preds, zero_division=0))"
   ]
  },
  {
   "cell_type": "code",
   "execution_count": 22,
   "id": "83b48d61",
   "metadata": {
    "execution": {
     "iopub.execute_input": "2025-05-05T21:24:24.961359Z",
     "iopub.status.busy": "2025-05-05T21:24:24.960698Z",
     "iopub.status.idle": "2025-05-05T21:24:24.975782Z",
     "shell.execute_reply": "2025-05-05T21:24:24.975126Z"
    },
    "papermill": {
     "duration": 0.033104,
     "end_time": "2025-05-05T21:24:24.976809",
     "exception": false,
     "start_time": "2025-05-05T21:24:24.943705",
     "status": "completed"
    },
    "tags": []
   },
   "outputs": [
    {
     "name": "stdout",
     "output_type": "stream",
     "text": [
      "Test Accuracy: 0.9289\n",
      "Precision: 0.9274\n",
      "Recall: 0.930974\n",
      "F1-Score: 0.9292\n",
      "AUC: 0.9755\n"
     ]
    }
   ],
   "source": [
    "# Recompute and print metrics\n",
    "accuracy = accuracy_score(y_test, final_preds)\n",
    "precision = precision_score(y_test, final_preds, zero_division=0)\n",
    "recall = recall_score(y_test, final_preds, zero_division=0)\n",
    "f1 = f1_score(y_test, final_preds, zero_division=0)\n",
    "auc = roc_auc_score(y_test, y_prob)\n",
    "fpr, tpr, thresholds = roc_curve(y_test, y_prob)\n",
    "\n",
    "print(f\"Test Accuracy: {accuracy:.4f}\")\n",
    "print(f\"Precision: {precision:.4f}\")\n",
    "print(f\"Recall: {recall:4f}\")\n",
    "print(f\"F1-Score: {f1:.4f}\")\n",
    "print(f\"AUC: {auc:.4f}\")"
   ]
  },
  {
   "cell_type": "code",
   "execution_count": null,
   "id": "681d5e57",
   "metadata": {
    "papermill": {
     "duration": 0.016637,
     "end_time": "2025-05-05T21:24:25.010331",
     "exception": false,
     "start_time": "2025-05-05T21:24:24.993694",
     "status": "completed"
    },
    "tags": []
   },
   "outputs": [],
   "source": []
  }
 ],
 "metadata": {
  "kaggle": {
   "accelerator": "gpu",
   "dataSources": [
    {
     "datasetId": 7243407,
     "sourceId": 11550545,
     "sourceType": "datasetVersion"
    },
    {
     "datasetId": 7273563,
     "sourceId": 11598247,
     "sourceType": "datasetVersion"
    }
   ],
   "dockerImageVersionId": 31012,
   "isGpuEnabled": true,
   "isInternetEnabled": false,
   "language": "python",
   "sourceType": "notebook"
  },
  "kernelspec": {
   "display_name": "Python 3 (ipykernel)",
   "language": "python",
   "name": "python3"
  },
  "language_info": {
   "codemirror_mode": {
    "name": "ipython",
    "version": 3
   },
   "file_extension": ".py",
   "mimetype": "text/x-python",
   "name": "python",
   "nbconvert_exporter": "python",
   "pygments_lexer": "ipython3",
   "version": "3.11.4"
  },
  "papermill": {
   "default_parameters": {},
   "duration": 10217.044244,
   "end_time": "2025-05-05T21:24:28.213550",
   "environment_variables": {},
   "exception": null,
   "input_path": "__notebook__.ipynb",
   "output_path": "__notebook__.ipynb",
   "parameters": {},
   "start_time": "2025-05-05T18:34:11.169306",
   "version": "2.6.0"
  }
 },
 "nbformat": 4,
 "nbformat_minor": 5
}
